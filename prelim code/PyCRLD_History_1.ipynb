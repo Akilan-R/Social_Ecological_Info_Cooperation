{
 "cells": [
  {
   "cell_type": "code",
   "execution_count": 27,
   "metadata": {},
   "outputs": [
    {
     "name": "stdout",
     "output_type": "stream",
     "text": [
      "Defaulting to user installation because normal site-packages is not writeable\n",
      "Collecting git+https://github.com/wbarfuss/pyCRLD.git\n",
      "  Cloning https://github.com/wbarfuss/pyCRLD.git to c:\\users\\akila\\appdata\\local\\temp\\pip-req-build-xou35rhq\n",
      "  Resolved https://github.com/wbarfuss/pyCRLD.git to commit a370d514ed99d91297d58ad3aaff28f4afd7f073\n",
      "  Preparing metadata (setup.py): started\n",
      "  Preparing metadata (setup.py): finished with status 'done'\n",
      "Requirement already satisfied: fastcore>=1.5.27 in c:\\users\\akila\\appdata\\roaming\\python\\python312\\site-packages (from pyCRLD==0.0.1) (1.5.53)\n",
      "Requirement already satisfied: numpy>=1.21.2 in c:\\users\\akila\\appdata\\roaming\\python\\python312\\site-packages (from pyCRLD==0.0.1) (1.26.2)\n",
      "Requirement already satisfied: jax>=0.3.25 in c:\\users\\akila\\appdata\\roaming\\python\\python312\\site-packages (from pyCRLD==0.0.1) (0.4.30)\n",
      "Requirement already satisfied: jaxlib>=0.3.25 in c:\\users\\akila\\appdata\\roaming\\python\\python312\\site-packages (from pyCRLD==0.0.1) (0.4.30)\n",
      "Requirement already satisfied: matplotlib>=3.4.3 in c:\\users\\akila\\appdata\\roaming\\python\\python312\\site-packages (from pyCRLD==0.0.1) (3.8.2)\n",
      "Requirement already satisfied: pydoe>=0.3.8 in c:\\users\\akila\\appdata\\roaming\\python\\python312\\site-packages (from pyCRLD==0.0.1) (0.3.8)\n",
      "Requirement already satisfied: packaging in c:\\users\\akila\\appdata\\roaming\\python\\python312\\site-packages (from fastcore>=1.5.27->pyCRLD==0.0.1) (23.2)\n",
      "Requirement already satisfied: ml-dtypes>=0.2.0 in c:\\users\\akila\\appdata\\roaming\\python\\python312\\site-packages (from jax>=0.3.25->pyCRLD==0.0.1) (0.4.0)\n",
      "Requirement already satisfied: opt-einsum in c:\\users\\akila\\appdata\\roaming\\python\\python312\\site-packages (from jax>=0.3.25->pyCRLD==0.0.1) (3.3.0)\n",
      "Requirement already satisfied: scipy>=1.9 in c:\\users\\akila\\appdata\\roaming\\python\\python312\\site-packages (from jax>=0.3.25->pyCRLD==0.0.1) (1.11.4)\n",
      "Requirement already satisfied: contourpy>=1.0.1 in c:\\users\\akila\\appdata\\roaming\\python\\python312\\site-packages (from matplotlib>=3.4.3->pyCRLD==0.0.1) (1.2.0)\n",
      "Requirement already satisfied: cycler>=0.10 in c:\\users\\akila\\appdata\\roaming\\python\\python312\\site-packages (from matplotlib>=3.4.3->pyCRLD==0.0.1) (0.12.1)\n",
      "Requirement already satisfied: fonttools>=4.22.0 in c:\\users\\akila\\appdata\\roaming\\python\\python312\\site-packages (from matplotlib>=3.4.3->pyCRLD==0.0.1) (4.47.0)\n",
      "Requirement already satisfied: kiwisolver>=1.3.1 in c:\\users\\akila\\appdata\\roaming\\python\\python312\\site-packages (from matplotlib>=3.4.3->pyCRLD==0.0.1) (1.4.5)\n",
      "Requirement already satisfied: pillow>=8 in c:\\users\\akila\\appdata\\roaming\\python\\python312\\site-packages (from matplotlib>=3.4.3->pyCRLD==0.0.1) (10.1.0)\n",
      "Requirement already satisfied: pyparsing>=2.3.1 in c:\\users\\akila\\appdata\\roaming\\python\\python312\\site-packages (from matplotlib>=3.4.3->pyCRLD==0.0.1) (3.1.1)\n",
      "Requirement already satisfied: python-dateutil>=2.7 in c:\\users\\akila\\appdata\\roaming\\python\\python312\\site-packages (from matplotlib>=3.4.3->pyCRLD==0.0.1) (2.8.2)\n",
      "Requirement already satisfied: six>=1.5 in c:\\users\\akila\\appdata\\roaming\\python\\python312\\site-packages (from python-dateutil>=2.7->matplotlib>=3.4.3->pyCRLD==0.0.1) (1.16.0)\n",
      "Building wheels for collected packages: pyCRLD\n",
      "  Building wheel for pyCRLD (setup.py): started\n",
      "  Building wheel for pyCRLD (setup.py): finished with status 'done'\n",
      "  Created wheel for pyCRLD: filename=pyCRLD-0.0.1-py3-none-any.whl size=54959 sha256=b25f724035ba1e6b3f230e380478f3794d540431084849efdcdffa82e107a551\n",
      "  Stored in directory: C:\\Users\\akila\\AppData\\Local\\Temp\\pip-ephem-wheel-cache-k0es1tga\\wheels\\4b\\bd\\27\\a6da20769512a91289da2c35f80f70fa75845a5ee196c74bda\n",
      "Successfully built pyCRLD\n",
      "Installing collected packages: pyCRLD\n",
      "Successfully installed pyCRLD-0.0.1\n",
      "Note: you may need to restart the kernel to use updated packages.\n"
     ]
    },
    {
     "name": "stderr",
     "output_type": "stream",
     "text": [
      "  Running command git clone --filter=blob:none --quiet https://github.com/wbarfuss/pyCRLD.git 'C:\\Users\\akila\\AppData\\Local\\Temp\\pip-req-build-xou35rhq'\n",
      "\n",
      "[notice] A new release of pip is available: 24.2 -> 24.3.1\n",
      "[notice] To update, run: python.exe -m pip install --upgrade pip\n"
     ]
    }
   ],
   "source": [
    "pip install \"git+https://github.com/wbarfuss/pyCRLD.git\""
   ]
  },
  {
   "cell_type": "code",
   "execution_count": 26,
   "metadata": {},
   "outputs": [
    {
     "ename": "AttributeError",
     "evalue": "type object 'EcologicalPublicGood' has no attribute 'T'",
     "output_type": "error",
     "traceback": [
      "\u001b[1;31m---------------------------------------------------------------------------\u001b[0m",
      "\u001b[1;31mAttributeError\u001b[0m                            Traceback (most recent call last)",
      "Cell \u001b[1;32mIn[26], line 12\u001b[0m\n\u001b[0;32m     10\u001b[0m \u001b[38;5;66;03m# Init enviornment and MultiAgentEnvironment-interface\u001b[39;00m\n\u001b[0;32m     11\u001b[0m env \u001b[38;5;241m=\u001b[39m EcologicalPublicGood(N \u001b[38;5;241m=\u001b[39m \u001b[38;5;241m2\u001b[39m, f \u001b[38;5;241m=\u001b[39m \u001b[38;5;241m1\u001b[39m, c \u001b[38;5;241m=\u001b[39m \u001b[38;5;241m1\u001b[39m, m \u001b[38;5;241m=\u001b[39m \u001b[38;5;241m1\u001b[39m, qc \u001b[38;5;241m=\u001b[39m \u001b[38;5;241m1\u001b[39m, qr \u001b[38;5;241m=\u001b[39m \u001b[38;5;241m1\u001b[39m)\n\u001b[1;32m---> 12\u001b[0m mae \u001b[38;5;241m=\u001b[39m \u001b[43mstratAC\u001b[49m\u001b[43m(\u001b[49m\u001b[43menv\u001b[49m\u001b[38;5;241;43m=\u001b[39;49m\u001b[43mEcologicalPublicGood\u001b[49m\u001b[43m,\u001b[49m\u001b[43m \u001b[49m\u001b[43mlearning_rates\u001b[49m\u001b[38;5;241;43m=\u001b[39;49m\u001b[38;5;241;43m0.1\u001b[39;49m\u001b[43m,\u001b[49m\u001b[43m \u001b[49m\u001b[43mdiscount_factors\u001b[49m\u001b[38;5;241;43m=\u001b[39;49m\u001b[38;5;241;43m0.9\u001b[39;49m\u001b[43m)\u001b[49m\n\u001b[0;32m     14\u001b[0m \u001b[38;5;66;03m# Compute learning trajectory \u001b[39;00m\n\u001b[0;32m     15\u001b[0m np\u001b[38;5;241m.\u001b[39mrandom\u001b[38;5;241m.\u001b[39mseed(\u001b[38;5;241m0\u001b[39m)\n",
      "File \u001b[1;32m~\\AppData\\Roaming\\Python\\Python312\\site-packages\\pyCRLD\\Agents\\StrategyBase.py:37\u001b[0m, in \u001b[0;36mstrategybase.__init__\u001b[1;34m(self, env, learning_rates, discount_factors, choice_intensities, use_prefactor, opteinsum, **kwargs)\u001b[0m\n\u001b[0;32m     27\u001b[0m \u001b[38;5;28;01mdef\u001b[39;00m \u001b[38;5;21m__init__\u001b[39m(\u001b[38;5;28mself\u001b[39m,\n\u001b[0;32m     28\u001b[0m              env, \u001b[38;5;66;03m# An environment object\u001b[39;00m\n\u001b[0;32m     29\u001b[0m              learning_rates:Union[\u001b[38;5;28mfloat\u001b[39m, Iterable], \u001b[38;5;66;03m# agents' learning rates\u001b[39;00m\n\u001b[1;32m   (...)\u001b[0m\n\u001b[0;32m     33\u001b[0m              opteinsum\u001b[38;5;241m=\u001b[39m\u001b[38;5;28;01mTrue\u001b[39;00m,  \u001b[38;5;66;03m# optimize einsum functions\u001b[39;00m\n\u001b[0;32m     34\u001b[0m              \u001b[38;5;241m*\u001b[39m\u001b[38;5;241m*\u001b[39mkwargs):\n\u001b[0;32m     36\u001b[0m     \u001b[38;5;28mself\u001b[39m\u001b[38;5;241m.\u001b[39menv \u001b[38;5;241m=\u001b[39m env\n\u001b[1;32m---> 37\u001b[0m     Tt \u001b[38;5;241m=\u001b[39m \u001b[43menv\u001b[49m\u001b[38;5;241;43m.\u001b[39;49m\u001b[43mT\u001b[49m; \u001b[38;5;28;01massert\u001b[39;00m np\u001b[38;5;241m.\u001b[39mallclose(Tt\u001b[38;5;241m.\u001b[39msum(\u001b[38;5;241m-\u001b[39m\u001b[38;5;241m1\u001b[39m), \u001b[38;5;241m1\u001b[39m)\n\u001b[0;32m     38\u001b[0m     Rt \u001b[38;5;241m=\u001b[39m env\u001b[38;5;241m.\u001b[39mR    \n\u001b[0;32m     39\u001b[0m     \u001b[38;5;28msuper\u001b[39m()\u001b[38;5;241m.\u001b[39m\u001b[38;5;21m__init__\u001b[39m(Tt, Rt, discount_factors, use_prefactor, opteinsum)\n",
      "\u001b[1;31mAttributeError\u001b[0m: type object 'EcologicalPublicGood' has no attribute 'T'"
     ]
    }
   ],
   "source": [
    "from pyCRLD.Agents.StrategyActorCritic import stratAC\n",
    "\n",
    "from pyCRLD.Environments.SocialDilemma import SocialDilemma\n",
    "from pyCRLD.Environments.EcologicalPublicGood import EcologicalPublicGood\n",
    "from pyCRLD.Utils import FlowPlot as fp\n",
    "\n",
    "import numpy as np\n",
    "import matplotlib.pyplot as plt\n",
    "\n",
    "# Init enviornment and MultiAgentEnvironment-interface\n",
    "env = EcologicalPublicGood(N = 2, f = 1, c = 1, m = 1, qc = 1, qr = 1)\n",
    "mae = stratAC(env=EcologicalPublicGood, learning_rates=0.1, discount_factors=0.9)\n",
    "\n",
    "# Compute learning trajectory \n",
    "np.random.seed(0)\n",
    "x = mae.random_softmax_strategy()  # from a random inital strategy\n",
    "xtraj, fixedpointreached = mae.trajectory(x, Tmax=10000, tolerance=1e-5)\n",
    "\n",
    "# PLOT\n",
    "fig, axs = plt.subplots(1,2, figsize=(9,4))\n",
    "plt.subplots_adjust(wspace=0.3)\n",
    "\n",
    "# Plot in phase space\n",
    "x = ([0], [0], [0])\n",
    "y = ([1], [0], [0])\n",
    "ax = fp.plot_strategy_flow(mae, x, y, use_RPEarrows=False, flowarrow_points = np.linspace(0.01 ,0.99, 9), axes=[axs[0]])\n",
    "fp.plot_trajectories([xtraj], x, y, cols=['purple'], axes=ax);\n",
    "ax[0].set_xlabel(\"Agent 0's cooperation probability\")\n",
    "ax[0].set_ylabel(\"Agent 1's cooperation probability\");\n",
    "ax[0].set_title(\"Flowplot\")\n",
    "\n",
    "# Plot in trajectory\n",
    "axs[1].plot(xtraj[:, 0, 0, 0], label=\"Agent 0\", c='red')\n",
    "axs[1].plot(xtraj[:, 1, 0, 0], label=\"Agent 1\", c='blue')\n",
    "axs[1].set_xlabel('Time steps')\n",
    "axs[1].set_ylabel('Cooperation probability')\n",
    "axs[1].legend()\n",
    "axs[1].set_title(\"Trajectory\")"
   ]
  }
 ],
 "metadata": {
  "kernelspec": {
   "display_name": "Python 3",
   "language": "python",
   "name": "python3"
  },
  "language_info": {
   "codemirror_mode": {
    "name": "ipython",
    "version": 3
   },
   "file_extension": ".py",
   "mimetype": "text/x-python",
   "name": "python",
   "nbconvert_exporter": "python",
   "pygments_lexer": "ipython3",
   "version": "3.12.1"
  }
 },
 "nbformat": 4,
 "nbformat_minor": 2
}
