{
 "cells": [
  {
   "cell_type": "code",
   "execution_count": 1,
   "id": "e9382df3",
   "metadata": {},
   "outputs": [],
   "source": [
    "%run imports.ipynb\n"
   ]
  },
  {
   "cell_type": "code",
   "execution_count": 4,
   "id": "e8ead207",
   "metadata": {},
   "outputs": [],
   "source": [
    "BaseEcologicalPublicGood = partial(\n",
    "    EcologicalPublicGood,\n",
    "    N=2,\n",
    "    f=1.2,\n",
    "    c=5,\n",
    "    m=-6,\n",
    "    qc=0.02,\n",
    "    qr=0.0001,\n",
    "    degraded_choice=False\n",
    ")\n",
    "\n",
    "# Baseline instance\n",
    "\n",
    "# Overriding certain arguments\n"
   ]
  },
  {
   "cell_type": "code",
   "execution_count": null,
   "id": "eb56f429",
   "metadata": {},
   "outputs": [],
   "source": [
    "def create_mae_POstratAC_eps(information_condition_instance = None, discount_factors=0.98):\n",
    "    return POstratAC_eps(env=information_condition_instance, learning_rates=0.1, discount_factors=discount_factors)\n",
    "\n"
   ]
  },
  {
   "cell_type": "code",
   "execution_count": 6,
   "id": "0b5021b2",
   "metadata": {},
   "outputs": [],
   "source": [
    "all_information_modes = [\n",
    "        'both_state_and_action_information', \n",
    "        'only_action_history_information', \n",
    "        'only_state_information', \n",
    "        'no_information'\n",
    "    ]"
   ]
  }
 ],
 "metadata": {
  "kernelspec": {
   "display_name": "Python 3",
   "language": "python",
   "name": "python3"
  },
  "language_info": {
   "codemirror_mode": {
    "name": "ipython",
    "version": 3
   },
   "file_extension": ".py",
   "mimetype": "text/x-python",
   "name": "python",
   "nbconvert_exporter": "python",
   "pygments_lexer": "ipython3",
   "version": "3.13.2"
  }
 },
 "nbformat": 4,
 "nbformat_minor": 5
}
