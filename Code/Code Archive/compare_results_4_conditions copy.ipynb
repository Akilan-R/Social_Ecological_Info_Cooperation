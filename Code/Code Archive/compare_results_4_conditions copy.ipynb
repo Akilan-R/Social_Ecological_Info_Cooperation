{
 "cells": [
  {
   "cell_type": "code",
   "execution_count": 11,
   "id": "2a99f35f-d960-411d-868c-4d789c9e6a6a",
   "metadata": {},
   "outputs": [],
   "source": [
    "%run imports.ipynb\n",
    "%run information_conditions.ipynb import Information_Conditions\n",
    "%run base_ecopg.ipynb import BaseEcologicalPublicGood\n",
    "%run helper_functions.ipynb import *\n",
    "%run simulation_and_results_functions.ipynb import *"
   ]
  },
  {
   "cell_type": "code",
   "execution_count": 2,
   "id": "a4e1e3c8",
   "metadata": {},
   "outputs": [],
   "source": [
    "all_information_modes = [\n",
    "        'both_state_and_action_information', \n",
    "        'only_action_history_information', \n",
    "        'only_state_information', \n",
    "        'no_information'\n",
    "    ]"
   ]
  },
  {
   "cell_type": "code",
   "execution_count": 15,
   "id": "cdfd0706",
   "metadata": {},
   "outputs": [],
   "source": [
    "\n",
    "def compare_conditions(num_samples=5, degraded_choice = False, m_value = -6, discount_factor = 0.98, exclude_degraded_state_for_average_cooperation = True , information_modes = all_information_modes, Tmax=1000, tolerance=1e-5):\n",
    "    \"\"\"\n",
    "    Runs simulations for different information conditions and outputs \n",
    "    the results for each condition.\n",
    "    \n",
    "    Parameters:\n",
    "        ecopg (EcologicalPublicGood): An instance of the ecological public good model.\n",
    "        num_samples (int): Number of initial conditions to sample.\n",
    "        Tmax (int): Maximum time steps for trajectory simulation.\n",
    "        tolerance (float): Convergence tolerance for fixed point detection.\n",
    "        \n",
    "    Returns:\n",
    "        None (prints the output summaries for each information condition)\n",
    "    \"\"\"\n",
    "\n",
    "    print(locals())\n",
    "    \n",
    "    basin_of_attraction_cooperation_results = {}\n",
    "    \n",
    "    \n",
    "    ecopg = BaseEcologicalPublicGood(m = m_value, degraded_choice=degraded_choice)\n",
    "\n",
    "    for mode in information_modes:\n",
    "        # Initialize the information condition\n",
    "        information_condition_instance = Information_Conditions(ecopg, mode=mode)\n",
    "        mae = POstratAC_eps(env=information_condition_instance, learning_rates=0.1, discount_factors= discount_factor)\n",
    "\n",
    "        # Data storage\n",
    "\n",
    "        # print(f\"\\nMode: {mode}\")\n",
    "\n",
    "        avg_coop_time_pairs = run_simulation_across_conditions(\n",
    "            mae = mae, \n",
    "            mode = mode,\n",
    "            num_samples = num_samples, \n",
    "            exclude_degraded_state_for_average_cooperation = exclude_degraded_state_for_average_cooperation\n",
    "        )\n",
    "\n",
    "        cooperation_basin_size = get_results_only_cooperation_basin_of_attraction_size(avg_coop_time_pairs)\n",
    "\n",
    "        basin_of_attraction_cooperation_results[mode] = {\n",
    "            'cooperation_basin_size': cooperation_basin_size\n",
    "        }\n",
    "\n",
    "    return basin_of_attraction_cooperation_results\n",
    "    \n",
    "\n",
    "# Example usage:\n"
   ]
  },
  {
   "cell_type": "code",
   "execution_count": 16,
   "id": "ac40af71",
   "metadata": {},
   "outputs": [
    {
     "name": "stdout",
     "output_type": "stream",
     "text": [
      "{'num_samples': 5, 'degraded_choice': False, 'm_value': -6, 'discount_factor': 0.98, 'exclude_degraded_state_for_average_cooperation': True, 'information_modes': ['both_state_and_action_information', 'only_action_history_information', 'only_state_information', 'no_information'], 'Tmax': 1000, 'tolerance': 1e-05}\n"
     ]
    }
   ],
   "source": [
    "data = compare_conditions(degraded_choice=False)\n",
    "# print(data_test)"
   ]
  },
  {
   "cell_type": "code",
   "execution_count": 17,
   "id": "dd0b96d3",
   "metadata": {},
   "outputs": [
    {
     "name": "stdout",
     "output_type": "stream",
     "text": [
      "{'both_state_and_action_information': {'cooperation_basin_size': np.float64(86.7)}, 'only_action_history_information': {'cooperation_basin_size': 0}, 'only_state_information': {'cooperation_basin_size': np.float64(60.0)}, 'no_information': {'cooperation_basin_size': 0}}\n"
     ]
    }
   ],
   "source": [
    "print(data)\n"
   ]
  },
  {
   "cell_type": "code",
   "execution_count": 19,
   "id": "c32460f4",
   "metadata": {},
   "outputs": [
    {
     "name": "stdout",
     "output_type": "stream",
     "text": [
      "Extracted Cooperation Percentages: [np.float64(86.7), 0, np.float64(60.0), 0]\n"
     ]
    },
    {
     "data": {
      "application/vnd.plotly.v1+json": {
       "config": {
        "plotlyServerURL": "https://plot.ly"
       },
       "data": [
        {
         "marker": {
          "color": "#4c72b0"
         },
         "name": "Both Social and Ecological State Information",
         "text": "86.7%",
         "textfont": {
          "color": "black",
          "size": 15
         },
         "textposition": "outside",
         "type": "bar",
         "x": [
          "Both Social and Ecological State Information"
         ],
         "y": [
          86.7
         ]
        },
        {
         "legendgroup": "Only Social Information",
         "marker": {
          "color": "rgba(0,0,0,0)",
          "line": {
           "color": "#FFB6C1",
           "width": 4
          }
         },
         "showlegend": false,
         "text": "0.0%",
         "textfont": {
          "color": "black",
          "size": 15
         },
         "textposition": "outside",
         "type": "bar",
         "x": [
          "Only Social Information"
         ],
         "y": [
          0
         ]
        },
        {
         "legendgroup": "Only Social Information",
         "marker": {
          "color": "#FFB6C1"
         },
         "name": "Only Social Information",
         "type": "bar",
         "x": [
          null
         ],
         "y": [
          null
         ]
        },
        {
         "marker": {
          "color": "#55a868"
         },
         "name": "Only Ecological State Information",
         "text": "60.0%",
         "textfont": {
          "color": "black",
          "size": 15
         },
         "textposition": "outside",
         "type": "bar",
         "x": [
          "Only Ecological State Information"
         ],
         "y": [
          60
         ]
        },
        {
         "legendgroup": "No Information",
         "marker": {
          "color": "rgba(0,0,0,0)",
          "line": {
           "color": "#000000",
           "width": 4
          }
         },
         "showlegend": false,
         "text": "0.0%",
         "textfont": {
          "color": "black",
          "size": 15
         },
         "textposition": "outside",
         "type": "bar",
         "x": [
          "No Information"
         ],
         "y": [
          0
         ]
        },
        {
         "legendgroup": "No Information",
         "marker": {
          "color": "#000000"
         },
         "name": "No Information",
         "type": "bar",
         "x": [
          null
         ],
         "y": [
          null
         ]
        }
       ],
       "layout": {
        "bargap": 0,
        "height": 675,
        "legend": {
         "font": {
          "color": "black",
          "size": 13.5
         },
         "orientation": "h",
         "title": {
          "text": ""
         },
         "x": 0.5,
         "xanchor": "center",
         "y": -0.3,
         "yanchor": "bottom"
        },
        "plot_bgcolor": "snow",
        "template": {
         "data": {
          "bar": [
           {
            "error_x": {
             "color": "#2a3f5f"
            },
            "error_y": {
             "color": "#2a3f5f"
            },
            "marker": {
             "line": {
              "color": "#E5ECF6",
              "width": 0.5
             },
             "pattern": {
              "fillmode": "overlay",
              "size": 10,
              "solidity": 0.2
             }
            },
            "type": "bar"
           }
          ],
          "barpolar": [
           {
            "marker": {
             "line": {
              "color": "#E5ECF6",
              "width": 0.5
             },
             "pattern": {
              "fillmode": "overlay",
              "size": 10,
              "solidity": 0.2
             }
            },
            "type": "barpolar"
           }
          ],
          "carpet": [
           {
            "aaxis": {
             "endlinecolor": "#2a3f5f",
             "gridcolor": "white",
             "linecolor": "white",
             "minorgridcolor": "white",
             "startlinecolor": "#2a3f5f"
            },
            "baxis": {
             "endlinecolor": "#2a3f5f",
             "gridcolor": "white",
             "linecolor": "white",
             "minorgridcolor": "white",
             "startlinecolor": "#2a3f5f"
            },
            "type": "carpet"
           }
          ],
          "choropleth": [
           {
            "colorbar": {
             "outlinewidth": 0,
             "ticks": ""
            },
            "type": "choropleth"
           }
          ],
          "contour": [
           {
            "colorbar": {
             "outlinewidth": 0,
             "ticks": ""
            },
            "colorscale": [
             [
              0,
              "#0d0887"
             ],
             [
              0.1111111111111111,
              "#46039f"
             ],
             [
              0.2222222222222222,
              "#7201a8"
             ],
             [
              0.3333333333333333,
              "#9c179e"
             ],
             [
              0.4444444444444444,
              "#bd3786"
             ],
             [
              0.5555555555555556,
              "#d8576b"
             ],
             [
              0.6666666666666666,
              "#ed7953"
             ],
             [
              0.7777777777777778,
              "#fb9f3a"
             ],
             [
              0.8888888888888888,
              "#fdca26"
             ],
             [
              1,
              "#f0f921"
             ]
            ],
            "type": "contour"
           }
          ],
          "contourcarpet": [
           {
            "colorbar": {
             "outlinewidth": 0,
             "ticks": ""
            },
            "type": "contourcarpet"
           }
          ],
          "heatmap": [
           {
            "colorbar": {
             "outlinewidth": 0,
             "ticks": ""
            },
            "colorscale": [
             [
              0,
              "#0d0887"
             ],
             [
              0.1111111111111111,
              "#46039f"
             ],
             [
              0.2222222222222222,
              "#7201a8"
             ],
             [
              0.3333333333333333,
              "#9c179e"
             ],
             [
              0.4444444444444444,
              "#bd3786"
             ],
             [
              0.5555555555555556,
              "#d8576b"
             ],
             [
              0.6666666666666666,
              "#ed7953"
             ],
             [
              0.7777777777777778,
              "#fb9f3a"
             ],
             [
              0.8888888888888888,
              "#fdca26"
             ],
             [
              1,
              "#f0f921"
             ]
            ],
            "type": "heatmap"
           }
          ],
          "histogram": [
           {
            "marker": {
             "pattern": {
              "fillmode": "overlay",
              "size": 10,
              "solidity": 0.2
             }
            },
            "type": "histogram"
           }
          ],
          "histogram2d": [
           {
            "colorbar": {
             "outlinewidth": 0,
             "ticks": ""
            },
            "colorscale": [
             [
              0,
              "#0d0887"
             ],
             [
              0.1111111111111111,
              "#46039f"
             ],
             [
              0.2222222222222222,
              "#7201a8"
             ],
             [
              0.3333333333333333,
              "#9c179e"
             ],
             [
              0.4444444444444444,
              "#bd3786"
             ],
             [
              0.5555555555555556,
              "#d8576b"
             ],
             [
              0.6666666666666666,
              "#ed7953"
             ],
             [
              0.7777777777777778,
              "#fb9f3a"
             ],
             [
              0.8888888888888888,
              "#fdca26"
             ],
             [
              1,
              "#f0f921"
             ]
            ],
            "type": "histogram2d"
           }
          ],
          "histogram2dcontour": [
           {
            "colorbar": {
             "outlinewidth": 0,
             "ticks": ""
            },
            "colorscale": [
             [
              0,
              "#0d0887"
             ],
             [
              0.1111111111111111,
              "#46039f"
             ],
             [
              0.2222222222222222,
              "#7201a8"
             ],
             [
              0.3333333333333333,
              "#9c179e"
             ],
             [
              0.4444444444444444,
              "#bd3786"
             ],
             [
              0.5555555555555556,
              "#d8576b"
             ],
             [
              0.6666666666666666,
              "#ed7953"
             ],
             [
              0.7777777777777778,
              "#fb9f3a"
             ],
             [
              0.8888888888888888,
              "#fdca26"
             ],
             [
              1,
              "#f0f921"
             ]
            ],
            "type": "histogram2dcontour"
           }
          ],
          "mesh3d": [
           {
            "colorbar": {
             "outlinewidth": 0,
             "ticks": ""
            },
            "type": "mesh3d"
           }
          ],
          "parcoords": [
           {
            "line": {
             "colorbar": {
              "outlinewidth": 0,
              "ticks": ""
             }
            },
            "type": "parcoords"
           }
          ],
          "pie": [
           {
            "automargin": true,
            "type": "pie"
           }
          ],
          "scatter": [
           {
            "fillpattern": {
             "fillmode": "overlay",
             "size": 10,
             "solidity": 0.2
            },
            "type": "scatter"
           }
          ],
          "scatter3d": [
           {
            "line": {
             "colorbar": {
              "outlinewidth": 0,
              "ticks": ""
             }
            },
            "marker": {
             "colorbar": {
              "outlinewidth": 0,
              "ticks": ""
             }
            },
            "type": "scatter3d"
           }
          ],
          "scattercarpet": [
           {
            "marker": {
             "colorbar": {
              "outlinewidth": 0,
              "ticks": ""
             }
            },
            "type": "scattercarpet"
           }
          ],
          "scattergeo": [
           {
            "marker": {
             "colorbar": {
              "outlinewidth": 0,
              "ticks": ""
             }
            },
            "type": "scattergeo"
           }
          ],
          "scattergl": [
           {
            "marker": {
             "colorbar": {
              "outlinewidth": 0,
              "ticks": ""
             }
            },
            "type": "scattergl"
           }
          ],
          "scattermap": [
           {
            "marker": {
             "colorbar": {
              "outlinewidth": 0,
              "ticks": ""
             }
            },
            "type": "scattermap"
           }
          ],
          "scattermapbox": [
           {
            "marker": {
             "colorbar": {
              "outlinewidth": 0,
              "ticks": ""
             }
            },
            "type": "scattermapbox"
           }
          ],
          "scatterpolar": [
           {
            "marker": {
             "colorbar": {
              "outlinewidth": 0,
              "ticks": ""
             }
            },
            "type": "scatterpolar"
           }
          ],
          "scatterpolargl": [
           {
            "marker": {
             "colorbar": {
              "outlinewidth": 0,
              "ticks": ""
             }
            },
            "type": "scatterpolargl"
           }
          ],
          "scatterternary": [
           {
            "marker": {
             "colorbar": {
              "outlinewidth": 0,
              "ticks": ""
             }
            },
            "type": "scatterternary"
           }
          ],
          "surface": [
           {
            "colorbar": {
             "outlinewidth": 0,
             "ticks": ""
            },
            "colorscale": [
             [
              0,
              "#0d0887"
             ],
             [
              0.1111111111111111,
              "#46039f"
             ],
             [
              0.2222222222222222,
              "#7201a8"
             ],
             [
              0.3333333333333333,
              "#9c179e"
             ],
             [
              0.4444444444444444,
              "#bd3786"
             ],
             [
              0.5555555555555556,
              "#d8576b"
             ],
             [
              0.6666666666666666,
              "#ed7953"
             ],
             [
              0.7777777777777778,
              "#fb9f3a"
             ],
             [
              0.8888888888888888,
              "#fdca26"
             ],
             [
              1,
              "#f0f921"
             ]
            ],
            "type": "surface"
           }
          ],
          "table": [
           {
            "cells": {
             "fill": {
              "color": "#EBF0F8"
             },
             "line": {
              "color": "white"
             }
            },
            "header": {
             "fill": {
              "color": "#C8D4E3"
             },
             "line": {
              "color": "white"
             }
            },
            "type": "table"
           }
          ]
         },
         "layout": {
          "annotationdefaults": {
           "arrowcolor": "#2a3f5f",
           "arrowhead": 0,
           "arrowwidth": 1
          },
          "autotypenumbers": "strict",
          "coloraxis": {
           "colorbar": {
            "outlinewidth": 0,
            "ticks": ""
           }
          },
          "colorscale": {
           "diverging": [
            [
             0,
             "#8e0152"
            ],
            [
             0.1,
             "#c51b7d"
            ],
            [
             0.2,
             "#de77ae"
            ],
            [
             0.3,
             "#f1b6da"
            ],
            [
             0.4,
             "#fde0ef"
            ],
            [
             0.5,
             "#f7f7f7"
            ],
            [
             0.6,
             "#e6f5d0"
            ],
            [
             0.7,
             "#b8e186"
            ],
            [
             0.8,
             "#7fbc41"
            ],
            [
             0.9,
             "#4d9221"
            ],
            [
             1,
             "#276419"
            ]
           ],
           "sequential": [
            [
             0,
             "#0d0887"
            ],
            [
             0.1111111111111111,
             "#46039f"
            ],
            [
             0.2222222222222222,
             "#7201a8"
            ],
            [
             0.3333333333333333,
             "#9c179e"
            ],
            [
             0.4444444444444444,
             "#bd3786"
            ],
            [
             0.5555555555555556,
             "#d8576b"
            ],
            [
             0.6666666666666666,
             "#ed7953"
            ],
            [
             0.7777777777777778,
             "#fb9f3a"
            ],
            [
             0.8888888888888888,
             "#fdca26"
            ],
            [
             1,
             "#f0f921"
            ]
           ],
           "sequentialminus": [
            [
             0,
             "#0d0887"
            ],
            [
             0.1111111111111111,
             "#46039f"
            ],
            [
             0.2222222222222222,
             "#7201a8"
            ],
            [
             0.3333333333333333,
             "#9c179e"
            ],
            [
             0.4444444444444444,
             "#bd3786"
            ],
            [
             0.5555555555555556,
             "#d8576b"
            ],
            [
             0.6666666666666666,
             "#ed7953"
            ],
            [
             0.7777777777777778,
             "#fb9f3a"
            ],
            [
             0.8888888888888888,
             "#fdca26"
            ],
            [
             1,
             "#f0f921"
            ]
           ]
          },
          "colorway": [
           "#636efa",
           "#EF553B",
           "#00cc96",
           "#ab63fa",
           "#FFA15A",
           "#19d3f3",
           "#FF6692",
           "#B6E880",
           "#FF97FF",
           "#FECB52"
          ],
          "font": {
           "color": "#2a3f5f"
          },
          "geo": {
           "bgcolor": "white",
           "lakecolor": "white",
           "landcolor": "#E5ECF6",
           "showlakes": true,
           "showland": true,
           "subunitcolor": "white"
          },
          "hoverlabel": {
           "align": "left"
          },
          "hovermode": "closest",
          "mapbox": {
           "style": "light"
          },
          "paper_bgcolor": "white",
          "plot_bgcolor": "#E5ECF6",
          "polar": {
           "angularaxis": {
            "gridcolor": "white",
            "linecolor": "white",
            "ticks": ""
           },
           "bgcolor": "#E5ECF6",
           "radialaxis": {
            "gridcolor": "white",
            "linecolor": "white",
            "ticks": ""
           }
          },
          "scene": {
           "xaxis": {
            "backgroundcolor": "#E5ECF6",
            "gridcolor": "white",
            "gridwidth": 2,
            "linecolor": "white",
            "showbackground": true,
            "ticks": "",
            "zerolinecolor": "white"
           },
           "yaxis": {
            "backgroundcolor": "#E5ECF6",
            "gridcolor": "white",
            "gridwidth": 2,
            "linecolor": "white",
            "showbackground": true,
            "ticks": "",
            "zerolinecolor": "white"
           },
           "zaxis": {
            "backgroundcolor": "#E5ECF6",
            "gridcolor": "white",
            "gridwidth": 2,
            "linecolor": "white",
            "showbackground": true,
            "ticks": "",
            "zerolinecolor": "white"
           }
          },
          "shapedefaults": {
           "line": {
            "color": "#2a3f5f"
           }
          },
          "ternary": {
           "aaxis": {
            "gridcolor": "white",
            "linecolor": "white",
            "ticks": ""
           },
           "baxis": {
            "gridcolor": "white",
            "linecolor": "white",
            "ticks": ""
           },
           "bgcolor": "#E5ECF6",
           "caxis": {
            "gridcolor": "white",
            "linecolor": "white",
            "ticks": ""
           }
          },
          "title": {
           "x": 0.05
          },
          "xaxis": {
           "automargin": true,
           "gridcolor": "white",
           "linecolor": "white",
           "ticks": "",
           "title": {
            "standoff": 15
           },
           "zerolinecolor": "white",
           "zerolinewidth": 2
          },
          "yaxis": {
           "automargin": true,
           "gridcolor": "white",
           "linecolor": "white",
           "ticks": "",
           "title": {
            "standoff": 15
           },
           "zerolinecolor": "white",
           "zerolinewidth": 2
          }
         }
        },
        "width": 500,
        "xaxis": {
         "showticklabels": false,
         "title": {
          "text": ""
         }
        },
        "yaxis": {
         "range": [
          0,
          100
         ],
         "tickfont": {
          "size": 18
         },
         "title": {
          "text": "Cooperation Basin Size (%)"
         }
        }
       }
      }
     },
     "metadata": {},
     "output_type": "display_data"
    }
   ],
   "source": [
    "\n",
    "# Extract cooperation percentages correctly from the DataFrame\n",
    "\n",
    "# Define the conditions in order\n",
    "information_modes = [\n",
    "    'both_state_and_action_information', \n",
    "    'only_action_history_information', \n",
    "    'only_state_information', \n",
    "    'no_information'\n",
    "]\n",
    "\n",
    "# Extract cooperation percentages\n",
    "cooperation_percentages = [get_cooperation_basin_size(data[condition]) for condition in information_modes]\n",
    "\n",
    "# Debugging output\n",
    "print(\"Extracted Cooperation Percentages:\", cooperation_percentages)\n",
    "\n",
    "conditions = [\n",
    "    \"Both Social and Ecological State Information\", \n",
    "    \"Only Social Information\", \n",
    "    \"Only Ecological State Information\", \n",
    "    \"No Information\"\n",
    "]\n",
    "\n",
    "# Create DataFrame for plotting\n",
    "plot_df = pd.DataFrame({\n",
    "    'Information Condition': conditions,\n",
    "    'Cooperation Percentage': cooperation_percentages\n",
    "})\n",
    "\n",
    "# Define a color palette\n",
    "color_map = {\n",
    "    \"Both Social and Ecological State Information\": \"#4c72b0\",  # Muted Blue\n",
    "    \"Only Social Information\": \"#FFB6C1\",  # Muted Pink\n",
    "    \"Only Ecological State Information\": \"#55a868\",  # Muted Green\n",
    "    \"No Information\": \"#000000\"  # Black\n",
    "}\n",
    "\n",
    "# Create figure\n",
    "fig = go.Figure()\n",
    "\n",
    "for i, row in plot_df.iterrows():\n",
    "    condition = row['Information Condition']\n",
    "    percentage = row['Cooperation Percentage']\n",
    "    color = color_map[condition]\n",
    "    \n",
    "    if percentage == 0:\n",
    "        # 1. Actual outline bars for zero values (shown in the plot)\n",
    "        fig.add_trace(go.Bar(\n",
    "            x=[condition], \n",
    "            y=[percentage], \n",
    "            marker=dict(color='rgba(0,0,0,0)', line=dict(color=color, width=4)),\n",
    "            text=f\"{percentage:.1f}%\",\n",
    "            textposition='outside',\n",
    "            textfont=dict(size=15, color='black'),  # Larger, darker percentage text\n",
    "            showlegend=False,  # Don't show this in the legend\n",
    "            legendgroup=condition  # Group legend with the solid bar\n",
    "        ))\n",
    "\n",
    "        # 2. Hidden solid legend bar (only for legend display)\n",
    "        fig.add_trace(go.Bar(\n",
    "            x=[None],  # Invisible bar in the plot\n",
    "            y=[None],\n",
    "            name=condition,\n",
    "            marker=dict(color=color),  # Filled marker for the legend\n",
    "            legendgroup=condition  # Matches legend with outline bar\n",
    "        ))\n",
    "\n",
    "    else:\n",
    "        # Normal filled bars\n",
    "        fig.add_trace(go.Bar(\n",
    "            x=[condition], \n",
    "            y=[percentage], \n",
    "            name=condition,\n",
    "            marker=dict(color=color),\n",
    "            text=f\"{percentage:.1f}%\",\n",
    "            textposition='outside',\n",
    "            textfont=dict(size=15, color='black')  # Larger, darker percentage text\n",
    "        ))\n",
    "\n",
    "# Update layout for aesthetics\n",
    "fig.update_layout(\n",
    "    yaxis_title=\"Cooperation Basin Size (%)\",\n",
    "    yaxis=dict(\n",
    "        range=[0, 100],\n",
    "        tickfont=dict(size=18)  # Larger, darker y-axis label\n",
    "    ),\n",
    "    xaxis=dict(title='', showticklabels=False),\n",
    "    plot_bgcolor='snow',  # Clean background\n",
    "    width=500,\n",
    "    height=675,\n",
    "    bargap=0,  # Minimize gaps\n",
    "    legend=dict(\n",
    "        title=\"\",\n",
    "        orientation=\"h\",\n",
    "        yanchor=\"bottom\",\n",
    "        y=-0.3,\n",
    "        xanchor=\"center\",\n",
    "        x=0.5,\n",
    "    font=dict(size=13.5, color='black')\n",
    "    )\n",
    ")\n",
    "\n",
    "# Show figure\n",
    "fig.show()\n"
   ]
  },
  {
   "cell_type": "markdown",
   "id": "65136281",
   "metadata": {},
   "source": [
    "#### Heatmaps"
   ]
  },
  {
   "cell_type": "code",
   "execution_count": 21,
   "id": "8dd3294c",
   "metadata": {},
   "outputs": [
    {
     "name": "stdout",
     "output_type": "stream",
     "text": [
      "{'num_samples': 4, 'degraded_choice': False, 'm_value': np.float64(0.0), 'discount_factor': np.float64(0.95), 'exclude_degraded_state_for_average_cooperation': True}\n",
      "{'num_samples': 4, 'degraded_choice': False, 'm_value': np.float64(0.0), 'discount_factor': np.float64(0.96), 'exclude_degraded_state_for_average_cooperation': True}\n",
      "{'num_samples': 4, 'degraded_choice': False, 'm_value': np.float64(0.0), 'discount_factor': np.float64(0.97), 'exclude_degraded_state_for_average_cooperation': True}\n",
      "{'num_samples': 4, 'degraded_choice': False, 'm_value': np.float64(0.0), 'discount_factor': np.float64(0.98), 'exclude_degraded_state_for_average_cooperation': True}\n",
      "{'num_samples': 4, 'degraded_choice': False, 'm_value': np.float64(0.0), 'discount_factor': np.float64(0.99), 'exclude_degraded_state_for_average_cooperation': True}\n",
      "{'num_samples': 4, 'degraded_choice': False, 'm_value': np.float64(-1.0), 'discount_factor': np.float64(0.95), 'exclude_degraded_state_for_average_cooperation': True}\n",
      "{'num_samples': 4, 'degraded_choice': False, 'm_value': np.float64(-1.0), 'discount_factor': np.float64(0.96), 'exclude_degraded_state_for_average_cooperation': True}\n",
      "{'num_samples': 4, 'degraded_choice': False, 'm_value': np.float64(-1.0), 'discount_factor': np.float64(0.97), 'exclude_degraded_state_for_average_cooperation': True}\n",
      "{'num_samples': 4, 'degraded_choice': False, 'm_value': np.float64(-1.0), 'discount_factor': np.float64(0.98), 'exclude_degraded_state_for_average_cooperation': True}\n",
      "{'num_samples': 4, 'degraded_choice': False, 'm_value': np.float64(-1.0), 'discount_factor': np.float64(0.99), 'exclude_degraded_state_for_average_cooperation': True}\n"
     ]
    },
    {
     "ename": "KeyboardInterrupt",
     "evalue": "",
     "output_type": "error",
     "traceback": [
      "\u001b[31m---------------------------------------------------------------------------\u001b[39m",
      "\u001b[31mKeyboardInterrupt\u001b[39m                         Traceback (most recent call last)",
      "\u001b[36mCell\u001b[39m\u001b[36m \u001b[39m\u001b[32mIn[21]\u001b[39m\u001b[32m, line 5\u001b[39m\n\u001b[32m      2\u001b[39m \u001b[38;5;28;01mfor\u001b[39;00m m_value \u001b[38;5;129;01min\u001b[39;00m np.linspace(\u001b[32m0\u001b[39m, -\u001b[32m6\u001b[39m, \u001b[32m7\u001b[39m):\n\u001b[32m      3\u001b[39m     \u001b[38;5;66;03m# Iterate over discount factor from 0.9 to 0.99 in steps of 0.02\u001b[39;00m\n\u001b[32m      4\u001b[39m     \u001b[38;5;28;01mfor\u001b[39;00m discount_factor \u001b[38;5;129;01min\u001b[39;00m np.linspace(\u001b[32m0.95\u001b[39m, \u001b[32m0.99\u001b[39m, \u001b[32m5\u001b[39m):\n\u001b[32m----> \u001b[39m\u001b[32m5\u001b[39m         result = \u001b[43mcompare_four_conditions\u001b[49m\u001b[43m(\u001b[49m\u001b[43mm_value\u001b[49m\u001b[43m=\u001b[49m\u001b[43mm_value\u001b[49m\u001b[43m,\u001b[49m\u001b[43m \u001b[49m\u001b[43mdiscount_factor\u001b[49m\u001b[43m=\u001b[49m\u001b[43mdiscount_factor\u001b[49m\u001b[43m,\u001b[49m\u001b[43m \u001b[49m\u001b[43mnum_samples\u001b[49m\u001b[43m \u001b[49m\u001b[43m=\u001b[49m\u001b[43m \u001b[49m\u001b[32;43m4\u001b[39;49m\u001b[43m)\u001b[49m\n\u001b[32m      7\u001b[39m         results_iteration_discount_factors_m_vals.append({\u001b[33m\"\u001b[39m\u001b[33mm\u001b[39m\u001b[33m\"\u001b[39m: m_value, \u001b[33m\"\u001b[39m\u001b[33mdiscount_factor\u001b[39m\u001b[33m\"\u001b[39m: discount_factor, \u001b[33m\"\u001b[39m\u001b[33mresult\u001b[39m\u001b[33m\"\u001b[39m: result})\n\u001b[32m     10\u001b[39m \u001b[38;5;66;03m# Print or store results\u001b[39;00m\n",
      "\u001b[36mCell\u001b[39m\u001b[36m \u001b[39m\u001b[32mIn[17]\u001b[39m\u001b[32m, line 47\u001b[39m, in \u001b[36mcompare_four_conditions\u001b[39m\u001b[34m(num_samples, degraded_choice, m_value, discount_factor, exclude_degraded_state_for_average_cooperation)\u001b[39m\n\u001b[32m     41\u001b[39m mae = POstratAC_eps(env=information_condition_instance, learning_rates=\u001b[32m0.1\u001b[39m, discount_factors= discount_factor)\n\u001b[32m     43\u001b[39m \u001b[38;5;66;03m# Data storage\u001b[39;00m\n\u001b[32m     44\u001b[39m \n\u001b[32m     45\u001b[39m \u001b[38;5;66;03m# print(f\"\\nMode: {mode}\")\u001b[39;00m\n\u001b[32m---> \u001b[39m\u001b[32m47\u001b[39m avg_coop_time_pairs = \u001b[43mrun_simulation_across_conditions\u001b[49m\u001b[43m(\u001b[49m\n\u001b[32m     48\u001b[39m \u001b[43m    \u001b[49m\u001b[43mmae\u001b[49m\u001b[43m \u001b[49m\u001b[43m=\u001b[49m\u001b[43m \u001b[49m\u001b[43mmae\u001b[49m\u001b[43m,\u001b[49m\u001b[43m \u001b[49m\n\u001b[32m     49\u001b[39m \u001b[43m    \u001b[49m\u001b[43mmode\u001b[49m\u001b[43m \u001b[49m\u001b[43m=\u001b[49m\u001b[43m \u001b[49m\u001b[43mmode\u001b[49m\u001b[43m,\u001b[49m\n\u001b[32m     50\u001b[39m \u001b[43m    \u001b[49m\u001b[43mnum_samples\u001b[49m\u001b[43m \u001b[49m\u001b[43m=\u001b[49m\u001b[43m \u001b[49m\u001b[43mnum_samples\u001b[49m\u001b[43m,\u001b[49m\u001b[43m \u001b[49m\n\u001b[32m     51\u001b[39m \u001b[43m    \u001b[49m\u001b[43mexclude_degraded_state_for_average_cooperation\u001b[49m\u001b[43m \u001b[49m\u001b[43m=\u001b[49m\u001b[43m \u001b[49m\u001b[43mexclude_degraded_state_for_average_cooperation\u001b[49m\n\u001b[32m     52\u001b[39m \u001b[43m\u001b[49m\u001b[43m)\u001b[49m\n\u001b[32m     54\u001b[39m \u001b[38;5;66;03m# Create DataFrame for processing\u001b[39;00m\n\u001b[32m     55\u001b[39m df = pd.DataFrame(avg_coop_time_pairs, columns=[\u001b[33m\"\u001b[39m\u001b[33mAverageCooperation\u001b[39m\u001b[33m\"\u001b[39m, \u001b[33m\"\u001b[39m\u001b[33mTimeToReach\u001b[39m\u001b[33m\"\u001b[39m])\n",
      "\u001b[36mCell\u001b[39m\u001b[36m \u001b[39m\u001b[32mIn[14]\u001b[39m\u001b[32m, line 54\u001b[39m, in \u001b[36mrun_simulation_across_conditions\u001b[39m\u001b[34m(mae, mode, num_samples, exclude_degraded_state_for_average_cooperation)\u001b[39m\n\u001b[32m     51\u001b[39m initial_conditions_list = lhs_sampling(mae.Q, num_samples, mae.N)\n\u001b[32m     53\u001b[39m \u001b[38;5;28;01mfor\u001b[39;00m initial_condition \u001b[38;5;129;01min\u001b[39;00m initial_conditions_list:\n\u001b[32m---> \u001b[39m\u001b[32m54\u001b[39m     result = \u001b[43mrun_simulation_for_initial_condition\u001b[49m\u001b[43m(\u001b[49m\n\u001b[32m     55\u001b[39m \u001b[43m        \u001b[49m\u001b[43mmae\u001b[49m\u001b[43m,\u001b[49m\u001b[43m \u001b[49m\u001b[43mmode\u001b[49m\u001b[43m,\u001b[49m\u001b[43m \u001b[49m\u001b[43minitial_condition\u001b[49m\u001b[43m,\u001b[49m\n\u001b[32m     56\u001b[39m \u001b[43m         \u001b[49m\u001b[43mexclude_degraded_state_for_average_cooperation\u001b[49m\n\u001b[32m     57\u001b[39m \u001b[43m    \u001b[49m\u001b[43m)\u001b[49m\n\u001b[32m     58\u001b[39m     avg_coop_time_pairs.append(result)\n\u001b[32m     60\u001b[39m \u001b[38;5;28;01mreturn\u001b[39;00m avg_coop_time_pairs\n",
      "\u001b[36mCell\u001b[39m\u001b[36m \u001b[39m\u001b[32mIn[14]\u001b[39m\u001b[32m, line 18\u001b[39m, in \u001b[36mrun_simulation_for_initial_condition\u001b[39m\u001b[34m(mae, mode, initial_condition, exclude_degraded_state_for_average_cooperation)\u001b[39m\n\u001b[32m      1\u001b[39m \u001b[38;5;28;01mdef\u001b[39;00m\u001b[38;5;250m \u001b[39m\u001b[34mrun_simulation_for_initial_condition\u001b[39m(mae, mode, initial_condition, \n\u001b[32m      2\u001b[39m                                          exclude_degraded_state_for_average_cooperation):\n\u001b[32m      3\u001b[39m \u001b[38;5;250m    \u001b[39m\u001b[33;03m\"\"\"\u001b[39;00m\n\u001b[32m      4\u001b[39m \u001b[33;03m    Runs a single Monte Carlo simulation and returns the average cooperation and time-to-reach.\u001b[39;00m\n\u001b[32m      5\u001b[39m \n\u001b[32m   (...)\u001b[39m\u001b[32m     15\u001b[39m \u001b[33;03m        tuple: (average cooperation, time-to-reach)\u001b[39;00m\n\u001b[32m     16\u001b[39m \u001b[33;03m    \"\"\"\u001b[39;00m\n\u001b[32m---> \u001b[39m\u001b[32m18\u001b[39m     xtraj, fixedpointreached = \u001b[43mmae\u001b[49m\u001b[43m.\u001b[49m\u001b[43mtrajectory\u001b[49m\u001b[43m(\u001b[49m\u001b[43minitial_condition\u001b[49m\u001b[43m,\u001b[49m\u001b[43m \u001b[49m\u001b[43mTmax\u001b[49m\u001b[43m=\u001b[49m\u001b[32;43m10000\u001b[39;49m\u001b[43m,\u001b[49m\u001b[43m \u001b[49m\u001b[43mtolerance\u001b[49m\u001b[43m=\u001b[49m\u001b[32;43m1e-5\u001b[39;49m\u001b[43m)\u001b[49m\n\u001b[32m     19\u001b[39m     final_point = xtraj[-\u001b[32m1\u001b[39m]\n\u001b[32m     21\u001b[39m     avg_coop_across_states = get_average_cooperativeness(\n\u001b[32m     22\u001b[39m         policy=final_point, \n\u001b[32m     23\u001b[39m         obsdist=mae.obsdist(final_point), \n\u001b[32m   (...)\u001b[39m\u001b[32m     26\u001b[39m         exclude_degraded_state_for_average_cooperation = exclude_degraded_state_for_average_cooperation\n\u001b[32m     27\u001b[39m     )[\u001b[32m0\u001b[39m]  \u001b[38;5;66;03m#we're only considiering agent i\u001b[39;00m\n",
      "\u001b[36mFile \u001b[39m\u001b[32md:\\Personal Projects\\Social_Ecological_Info_Cooperation\\Code\\nbs\\../pyCRLD\\pyCRLD\\Agents\\Base.py:307\u001b[39m, in \u001b[36mtrajectory\u001b[39m\u001b[34m(self, Xinit, Tmax, tolerance, verbose, **kwargs)\u001b[39m\n\u001b[32m    304\u001b[39m     \u001b[38;5;28;01mbreak\u001b[39;00m\n\u001b[32m    306\u001b[39m \u001b[38;5;28;01mif\u001b[39;00m tolerance \u001b[38;5;129;01mis\u001b[39;00m \u001b[38;5;129;01mnot\u001b[39;00m \u001b[38;5;28;01mNone\u001b[39;00m:\n\u001b[32m--> \u001b[39m\u001b[32m307\u001b[39m     fixpreached = np.linalg.norm(\u001b[43mX_\u001b[49m\u001b[43m \u001b[49m\u001b[43m-\u001b[49m\u001b[43m \u001b[49m\u001b[43mX\u001b[49m) < tolerance\n\u001b[32m    309\u001b[39m X = X_\n\u001b[32m    310\u001b[39m t += \u001b[32m1\u001b[39m\n",
      "\u001b[36mFile \u001b[39m\u001b[32md:\\Program_Files_D\\Python\\Lib\\site-packages\\jax\\_src\\numpy\\array_methods.py:579\u001b[39m, in \u001b[36m_defer_to_unrecognized_arg.<locals>.deferring_binary_op\u001b[39m\u001b[34m(self, other)\u001b[39m\n\u001b[32m    577\u001b[39m args = (other, \u001b[38;5;28mself\u001b[39m) \u001b[38;5;28;01mif\u001b[39;00m swap \u001b[38;5;28;01melse\u001b[39;00m (\u001b[38;5;28mself\u001b[39m, other)\n\u001b[32m    578\u001b[39m \u001b[38;5;28;01mif\u001b[39;00m \u001b[38;5;28misinstance\u001b[39m(other, _accepted_binop_types):\n\u001b[32m--> \u001b[39m\u001b[32m579\u001b[39m   \u001b[38;5;28;01mreturn\u001b[39;00m \u001b[43mbinary_op\u001b[49m\u001b[43m(\u001b[49m\u001b[43m*\u001b[49m\u001b[43margs\u001b[49m\u001b[43m)\u001b[49m\n\u001b[32m    580\u001b[39m \u001b[38;5;66;03m# Note: don't use isinstance here, because we don't want to raise for\u001b[39;00m\n\u001b[32m    581\u001b[39m \u001b[38;5;66;03m# subclasses, e.g. NamedTuple objects that may override operators.\u001b[39;00m\n\u001b[32m    582\u001b[39m \u001b[38;5;28;01mif\u001b[39;00m \u001b[38;5;28mtype\u001b[39m(other) \u001b[38;5;129;01min\u001b[39;00m _rejected_binop_types:\n",
      "\u001b[36mFile \u001b[39m\u001b[32md:\\Program_Files_D\\Python\\Lib\\site-packages\\jax\\_src\\numpy\\ufunc_api.py:180\u001b[39m, in \u001b[36mufunc.__call__\u001b[39m\u001b[34m(self, out, where, *args)\u001b[39m\n\u001b[32m    178\u001b[39m   \u001b[38;5;28;01mraise\u001b[39;00m \u001b[38;5;167;01mNotImplementedError\u001b[39;00m(\u001b[33mf\u001b[39m\u001b[33m\"\u001b[39m\u001b[33mwhere argument of \u001b[39m\u001b[38;5;132;01m{\u001b[39;00m\u001b[38;5;28mself\u001b[39m\u001b[38;5;132;01m}\u001b[39;00m\u001b[33m\"\u001b[39m)\n\u001b[32m    179\u001b[39m call = \u001b[38;5;28mself\u001b[39m.__static_props[\u001b[33m'\u001b[39m\u001b[33mcall\u001b[39m\u001b[33m'\u001b[39m] \u001b[38;5;129;01mor\u001b[39;00m \u001b[38;5;28mself\u001b[39m._call_vectorized\n\u001b[32m--> \u001b[39m\u001b[32m180\u001b[39m \u001b[38;5;28;01mreturn\u001b[39;00m \u001b[43mcall\u001b[49m\u001b[43m(\u001b[49m\u001b[43m*\u001b[49m\u001b[43margs\u001b[49m\u001b[43m)\u001b[49m\n",
      "\u001b[31mKeyboardInterrupt\u001b[39m: "
     ]
    }
   ],
   "source": [
    "results_iteration_discount_factors_m_vals = []\n",
    "for m_value in np.linspace(0, -6, 7):\n",
    "    # Iterate over discount factor from 0.9 to 0.99 in steps of 0.02\n",
    "    for discount_factor in np.linspace(0.95, 0.99, 5):\n",
    "        result = compare_four_conditions(m_value=m_value, discount_factor=discount_factor, num_samples = 4)\n",
    "        \n",
    "        results_iteration_discount_factors_m_vals.append({\"m\": m_value, \"discount_factor\": discount_factor, \"result\": result})\n",
    "\n",
    "\n",
    "# Print or store results\n",
    "\n"
   ]
  },
  {
   "cell_type": "code",
   "execution_count": null,
   "id": "71d4ac5d",
   "metadata": {},
   "outputs": [],
   "source": [
    "results_iteration_discount_factors_m_vals_df = pd.DataFrame(results_iteration_discount_factors_m_vals)\n",
    "results_iteration_discount_factors_m_vals_df.to_csv(\"results_iteration_discount_factors_m_vals_df.csv\", index=False)  # Save as CSV\n"
   ]
  },
  {
   "cell_type": "code",
   "execution_count": null,
   "id": "71b4e380",
   "metadata": {},
   "outputs": [
    {
     "name": "stdout",
     "output_type": "stream",
     "text": [
      "{'m': -3, 'discount_factor': 0.93, 'cooperation_basin_size_no_information': 0, 'cooperation_basin_size_only_action_history_information': 0, 'cooperation_basin_only_state_information': 0, 'cooperation_basin_size_both_state_and_action_information': 14.5}\n"
     ]
    }
   ],
   "source": [
    "cooperation_basin_size_no_information_discount_factors_m_vals = copy.deepcopy(results_iteration_discount_factors_m_vals)\n",
    "\n",
    "# Modify the copied list without affecting the original\n",
    "for data in cooperation_basin_size_no_information_discount_factors_m_vals:\n",
    "    data[\"cooperation_basin_size_no_information\"] = get_cooperation_basin_size(data[\"result\"][\"no_information\"])\n",
    "    data[\"cooperation_basin_size_only_action_history_information\"] = get_cooperation_basin_size(data[\"result\"][\"only_action_history_information\"])\n",
    "    data[\"cooperation_basin_only_state_information\"] = get_cooperation_basin_size(data[\"result\"][\"only_state_information\"])\n",
    "    data[\"cooperation_basin_size_both_state_and_action_information\"] = get_cooperation_basin_size(data[\"result\"][\"both_state_and_action_information\"])\n",
    "\n",
    "    del data[\"result\"] \n",
    "\n",
    "print(cooperation_basin_size_no_information_discount_factors_m_vals[10])"
   ]
  },
  {
   "cell_type": "code",
   "execution_count": null,
   "id": "c40a96a4",
   "metadata": {},
   "outputs": [
    {
     "name": "stdout",
     "output_type": "stream",
     "text": [
      "{'m': -3, 'discount_factor': 0.93, 'cooperation_basin_size_no_information': 0, 'cooperation_basin_size_only_action_history_information': 0, 'cooperation_basin_only_state_information': 0, 'cooperation_basin_size_both_state_and_action_information': 14.5}\n"
     ]
    }
   ],
   "source": [
    "cooperation_basin_size_no_information_discount_factors_m_vals = copy.deepcopy(results_iteration_discount_factors_m_vals)\n",
    "\n",
    "# Modify the copied list without affecting the original\n",
    "for data in cooperation_basin_size_no_information_discount_factors_m_vals:\n",
    "    data[\"cooperation_basin_size_no_information\"] = get_cooperation_basin_size(data[\"result\"][\"no_information\"])\n",
    "    data[\"cooperation_basin_size_only_action_history_information\"] = get_cooperation_basin_size(data[\"result\"][\"only_action_history_information\"])\n",
    "    data[\"cooperation_basin_only_state_information\"] = get_cooperation_basin_size(data[\"result\"][\"only_state_information\"])\n",
    "    data[\"cooperation_basin_size_both_state_and_action_information\"] = get_cooperation_basin_size(data[\"result\"][\"both_state_and_action_information\"])\n",
    "\n",
    "    del data[\"result\"] \n",
    "\n",
    "print(cooperation_basin_size_no_information_discount_factors_m_vals[10])"
   ]
  },
  {
   "cell_type": "code",
   "execution_count": null,
   "id": "a2ec2699",
   "metadata": {},
   "outputs": [
    {
     "name": "stdout",
     "output_type": "stream",
     "text": [
      "{'m': -6, 'discount_factor': 0.9600000000000001, 'difference_action_vs_no_info': 1.8, 'difference_both_state_and_action_vs_only_state': 36.4, 'Synergy': 34.6}\n"
     ]
    }
   ],
   "source": [
    "cooperation_basin_size_diff_no_information_discount_factors_m_vals = copy.deepcopy(cooperation_basin_size_no_information_discount_factors_m_vals)\n",
    "\n",
    "for data in cooperation_basin_size_diff_no_information_discount_factors_m_vals:\n",
    "        data[\"difference_action_vs_no_info\"] = (\n",
    "            data[\"cooperation_basin_size_only_action_history_information\"]\n",
    "            - data[\"cooperation_basin_size_no_information\"]\n",
    "        )\n",
    "        \n",
    "        data[\"difference_both_state_and_action_vs_only_state\"] = (\n",
    "            data[\"cooperation_basin_size_both_state_and_action_information\"]\n",
    "            - data[\"cooperation_basin_only_state_information\"]\n",
    "        )\n",
    "\n",
    "        data[\"Synergy\"] = (\n",
    "            data[\"cooperation_basin_size_both_state_and_action_information\"]\n",
    "            - data[\"cooperation_basin_only_state_information\"]  - data[\"cooperation_basin_size_only_action_history_information\"]\n",
    "        )\n",
    "\n",
    "        del data[\"cooperation_basin_size_no_information\"], data[\"cooperation_basin_size_only_action_history_information\"], data[\"cooperation_basin_only_state_information\"], data[\"cooperation_basin_size_both_state_and_action_information\"]\n",
    "\n",
    "print(cooperation_basin_size_diff_no_information_discount_factors_m_vals[-3])"
   ]
  },
  {
   "cell_type": "code",
   "execution_count": null,
   "id": "7799df15",
   "metadata": {},
   "outputs": [
    {
     "data": {
      "image/png": "[encoded data removed]",
      "text/plain": [
       "<Figure size 800x600 with 2 Axes>"
      ]
     },
     "metadata": {},
     "output_type": "display_data"
    }
   ],
   "source": [
    "\n",
    "# Convert list of dictionaries into a DataFrame\n",
    "df = pd.DataFrame(cooperation_basin_size_no_information_discount_factors_m_vals)\n",
    "df['discount_factor'] = df['discount_factor'].round(2)\n",
    "\n",
    "# Pivot the DataFrame for heatmap format\n",
    "heatmap_data = df.pivot(index='m', columns='discount_factor', values='cooperation_basin_size_no_information')\n",
    "\n",
    "# Plot the heatmap\n",
    "plt.figure(figsize=(8, 6))\n",
    "sns.heatmap(heatmap_data, cmap='Greys', fmt=\".1f\", linewidths=0.5, vmin = 0, vmax = 100)\n",
    "plt.title(\"No Information\")\n",
    "plt.xlabel(\"Discount Factor\")\n",
    "plt.ylabel(\"Collapse Impact\")\n",
    "plt.gca().invert_yaxis()  # Ensure 'm' values are in descending order\n",
    "\n",
    "# Display the heatmap\n",
    "plt.show()"
   ]
  },
  {
   "cell_type": "code",
   "execution_count": null,
   "id": "9474e207",
   "metadata": {},
   "outputs": [
    {
     "ename": "NameError",
     "evalue": "name 'cooperation_basin_size_no_information_discount_factors_m_vals' is not defined",
     "output_type": "error",
     "traceback": [
      "\u001b[1;31m---------------------------------------------------------------------------\u001b[0m",
      "\u001b[1;31mNameError\u001b[0m                                 Traceback (most recent call last)",
      "Cell \u001b[1;32mIn[26], line 1\u001b[0m\n\u001b[1;32m----> 1\u001b[0m \u001b[38;5;28mprint\u001b[39m(\u001b[43mcooperation_basin_size_no_information_discount_factors_m_vals\u001b[49m[\u001b[38;5;241m0\u001b[39m])\n",
      "\u001b[1;31mNameError\u001b[0m: name 'cooperation_basin_size_no_information_discount_factors_m_vals' is not defined"
     ]
    }
   ],
   "source": [
    "print(cooperation_basin_size_no_information_discount_factors_m_vals[0])"
   ]
  },
  {
   "cell_type": "code",
   "execution_count": null,
   "id": "e3a986b2",
   "metadata": {},
   "outputs": [
    {
     "data": {
      "image/png": "[encoded data removed]",
      "text/plain": [
       "<Figure size 800x600 with 2 Axes>"
      ]
     },
     "metadata": {},
     "output_type": "display_data"
    }
   ],
   "source": [
    "\n",
    "# Convert list of dictionaries into a DataFrame\n",
    "df = pd.DataFrame(cooperation_basin_size_no_information_discount_factors_m_vals)\n",
    "df['discount_factor'] = df['discount_factor'].round(3)\n",
    "\n",
    "# Pivot the DataFrame for heatmap format\n",
    "heatmap_data = df.pivot(index='m', columns='discount_factor', values='cooperation_basin_size_only_action_history_information')\n",
    "\n",
    "# Plot the heatmap\n",
    "plt.figure(figsize=(8, 6))\n",
    "sns.heatmap(heatmap_data, cmap='Reds', fmt=\".1f\", linewidths=0.5,  vmin = 0, vmax = 100)\n",
    "plt.title(\"Only Social Information\")\n",
    "plt.xlabel(\"Discount Factor\")\n",
    "plt.ylabel(\"Collapse Impact\")\n",
    "plt.gca().invert_yaxis()  # Ensure 'm' values are in descending order\n",
    "\n",
    "# Display the heatmap\n",
    "plt.show()"
   ]
  },
  {
   "cell_type": "code",
   "execution_count": null,
   "id": "3013c8ef",
   "metadata": {},
   "outputs": [
    {
     "data": {
      "image/png": "[encoded data removed]",
      "text/plain": [
       "<Figure size 800x600 with 2 Axes>"
      ]
     },
     "metadata": {},
     "output_type": "display_data"
    }
   ],
   "source": [
    "\n",
    "# Convert list of dictionaries into a DataFrame\n",
    "df = pd.DataFrame(cooperation_basin_size_no_information_discount_factors_m_vals)\n",
    "df['discount_factor'] = df['discount_factor'].round(3)\n",
    "\n",
    "# Pivot the DataFrame for heatmap format\n",
    "heatmap_data = df.pivot(index='m', columns='discount_factor', values='cooperation_basin_only_state_information')\n",
    "\n",
    "# Plot the heatmap\n",
    "plt.figure(figsize=(8, 6))\n",
    "sns.heatmap(heatmap_data, cmap='Greens', fmt=\".1f\", linewidths=0.5,  vmin = 0, vmax = 100)\n",
    "plt.title(\"Only Ecological-State Information\")\n",
    "plt.xlabel(\"Discount Factor\")\n",
    "plt.ylabel(\"Collapse Impact\")\n",
    "plt.gca().invert_yaxis()  # Ensure 'm' values are in descending order\n",
    "\n",
    "# Display the heatmap\n",
    "plt.show()"
   ]
  },
  {
   "cell_type": "code",
   "execution_count": null,
   "id": "f190a548",
   "metadata": {},
   "outputs": [
    {
     "data": {
      "image/png": "[encoded data removed]",
      "text/plain": [
       "<Figure size 800x600 with 2 Axes>"
      ]
     },
     "metadata": {},
     "output_type": "display_data"
    }
   ],
   "source": [
    "\n",
    "# Convert list of dictionaries into a DataFrame\n",
    "df = pd.DataFrame(cooperation_basin_size_no_information_discount_factors_m_vals)\n",
    "df['discount_factor'] = df['discount_factor'].round(2)\n",
    "\n",
    "# Pivot the DataFrame for heatmap format\n",
    "heatmap_data = df.pivot(index='m', columns='discount_factor', values='cooperation_basin_size_both_state_and_action_information')\n",
    "\n",
    "# Plot the heatmap\n",
    "plt.figure(figsize=(8, 6))\n",
    "sns.heatmap(heatmap_data, cmap='Blues', fmt=\".1f\", linewidths=0.5,  vmin = 0, vmax = 100)\n",
    "plt.title(\"Both Ecological-State & Social Information\")\n",
    "plt.xlabel(\"Discount Factor\")\n",
    "plt.ylabel(\"Collapse Impact\")\n",
    "plt.gca().invert_yaxis()  # Ensure 'm' values are in descending order\n",
    "\n",
    "# Display the heatmap\n",
    "plt.show()"
   ]
  },
  {
   "cell_type": "code",
   "execution_count": null,
   "id": "0fff5666",
   "metadata": {},
   "outputs": [
    {
     "data": {
      "image/png": "[encoded data removed]",
      "text/plain": [
       "<Figure size 800x600 with 2 Axes>"
      ]
     },
     "metadata": {},
     "output_type": "display_data"
    }
   ],
   "source": [
    "\n",
    "# Convert list of dictionaries into a DataFrame\n",
    "df = pd.DataFrame(cooperation_basin_size_no_information_discount_factors_m_vals)\n",
    "df['discount_factor'] = df['discount_factor'].round(2)\n",
    "\n",
    "# Pivot the DataFrame for heatmap format\n",
    "heatmap_data = df.pivot(index='m', columns='discount_factor', values='cooperation_basin_size_no_information')\n",
    "\n",
    "# Plot the heatmap\n",
    "plt.figure(figsize=(8, 6))\n",
    "sns.heatmap(heatmap_data, cmap='Greys', fmt=\".1f\", linewidths=0.5)\n",
    "plt.title(\"Synergestic Effect of Social and Ecological-State Info\")\n",
    "plt.xlabel(\"Discount Factor\")\n",
    "plt.ylabel(\"Collapse Impact\")\n",
    "plt.gca().invert_yaxis()  # Ensure 'm' values are in descending order\n",
    "\n",
    "# Display the heatmap\n",
    "plt.show()"
   ]
  }
 ],
 "metadata": {
  "kernelspec": {
   "display_name": "Python 3",
   "language": "python",
   "name": "python3"
  },
  "language_info": {
   "codemirror_mode": {
    "name": "ipython",
    "version": 3
   },
   "file_extension": ".py",
   "mimetype": "text/x-python",
   "name": "python",
   "nbconvert_exporter": "python",
   "pygments_lexer": "ipython3",
   "version": "3.13.2"
  }
 },
 "nbformat": 4,
 "nbformat_minor": 5
}
