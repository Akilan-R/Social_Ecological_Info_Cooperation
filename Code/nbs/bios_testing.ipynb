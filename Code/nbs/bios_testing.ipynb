{
 "cells": [
  {
   "attachments": {},
   "cell_type": "markdown",
   "id": "998aa58c-c1c4-41fe-9f34-1a91133c87cd",
   "metadata": {},
   "source": [
    "Different Bios testing"
   ]
  },
  {
   "cell_type": "code",
   "execution_count": null,
   "id": "c6508176",
   "metadata": {},
   "outputs": [],
   "source": [
    "import sys\n",
    "sys.path.append('../pyCRLD')\n"
   ]
  },
  {
   "cell_type": "code",
   "execution_count": 32,
   "id": "764154dd",
   "metadata": {},
   "outputs": [],
   "source": [
    "import numpy as np\n",
    "import matplotlib.pyplot as plt\n",
    "import copy\n",
    "\n",
    "from pyCRLD.Environments.SocialDilemma import SocialDilemma\n",
    "from pyCRLD.Environments.EcologicalPublicGood import EcologicalPublicGood\n",
    "\n",
    "from pyCRLD.Agents.StrategyActorCritic import stratAC\n",
    "from pyCRLD.Agents.POStrategyActorCritic import POstratAC\n",
    "\n",
    "\n",
    "from pyCRLD.Utils import FlowPlot as fp\n",
    "from fastcore.utils import *\n",
    "from jax import jit\n",
    "import jax.numpy as jnp\n",
    "from pyCRLD.Environments.HistoryEmbedding import HistoryEmbedded\n",
    "\n",
    "from scipy.stats import kstest\n",
    "\n",
    "from scipy.stats import qmc\n",
    "import itertools as it\n",
    "import pandas as pd\n",
    "\n",
    "global_seed = 40\n",
    "np.random.seed(global_seed)"
   ]
  },
  {
   "cell_type": "code",
   "execution_count": 42,
   "id": "80e9219f",
   "metadata": {},
   "outputs": [
    {
     "name": "stdout",
     "output_type": "stream",
     "text": [
      "Hello World\n"
     ]
    }
   ],
   "source": [
    "from pyCRLD.Agents.test import hello\n",
    "\n",
    "hello_test = hello()\n",
    "hello_test.hello()\n"
   ]
  },
  {
   "cell_type": "code",
   "execution_count": 10,
   "id": "e378712e",
   "metadata": {},
   "outputs": [],
   "source": [
    "socdi = SocialDilemma(R=1.0, T=1.2, S=-0.5, P=0.0)\n",
    "memo1pd = HistoryEmbedded(socdi, h = (1, 1, 1))\n",
    "\n",
    "mae_strat = stratAC(env=memo1pd, learning_rates=0.1, discount_factors=0.99)\n",
    "mae_postrat = POstratAC(env=memo1pd, learning_rates=0.1, discount_factors=0.99)"
   ]
  },
  {
   "cell_type": "code",
   "execution_count": null,
   "id": "f0aed1f4",
   "metadata": {},
   "outputs": [
    {
     "name": "stdout",
     "output_type": "stream",
     "text": [
      "[[[0.3        0.7       ]\n",
      "  [0.2        0.8       ]\n",
      "  [0.5        0.5       ]\n",
      "  [0.3        0.7       ]]\n",
      "\n",
      " [[0.1        0.90000004]\n",
      "  [1.         0.        ]\n",
      "  [0.7        0.3       ]\n",
      "  [0.1        0.90000004]]]\n",
      "[4.99999e-01 4.99999e-01 9.99996e-07 9.99996e-07]\n"
     ]
    }
   ],
   "source": [
    "mae_postrat = POstratAC(env=memo1pd, learning_rates=0.1, discount_factors=0.9)\n",
    "\n",
    "policy_test = np.round(mae_postrat.random_softmax_policy(),1)\n",
    "print(policy_test)\n",
    "\n",
    "e  = 10e-10\n",
    "state_dist_test = np.array([0.5, 0.5, 0, 0])\n",
    "state_dist_test_with_epsilon = (state_dist_test + e)/np.sum(state_dist_test + e)\n",
    "\n",
    "print(state_dist_test_with_epsilon)\n",
    "\n",
    "\n",
    "state_dist_test_with_epsilon_temp = np.array([0.5, 0.5, e, e])\n",
    "\n",
    "state_dist_test[state_dist_test == 0] = e\n"
   ]
  },
  {
   "cell_type": "code",
   "execution_count": 28,
   "id": "27016792",
   "metadata": {},
   "outputs": [
    {
     "name": "stdout",
     "output_type": "stream",
     "text": [
      "[[[5.e-01 5.e-01 1.e-09 1.e-09]]\n",
      "\n",
      " [[5.e-01 5.e-01 1.e-09 1.e-09]]]\n",
      "[[[1. 0. 0. 0.]\n",
      "  [0. 1. 0. 0.]\n",
      "  [0. 0. 1. 0.]\n",
      "  [0. 0. 0. 1.]]\n",
      "\n",
      " [[1. 0. 0. 0.]\n",
      "  [0. 1. 0. 0.]\n",
      "  [0. 0. 1. 0.]\n",
      "  [0. 0. 0. 1.]]]\n"
     ]
    }
   ],
   "source": [
    "def _bios_with_epsilon(O, pS):\n",
    "        i, s, o = 0, 1, 2 # variables \n",
    "\n",
    "        e  = 10e-10\n",
    "        pS[pS == 0] = e\n",
    "        b = jnp.einsum(O, [i,s,o], pS, [s], [i,s,o])\n",
    "        bsum = b.sum(axis=1, keepdims=True)\n",
    "        print(bsum)\n",
    "        bsum = bsum + (bsum == 0)  # to avoid dividing by zero\n",
    "        Biso = b / bsum\n",
    "        Bios = jnp.swapaxes(Biso, 1,-1)\n",
    "        \n",
    "        return Bios\n",
    "\n",
    "bios_test = _bios_with_epsilon(mae_postrat.O, state_dist_test)\n",
    "print(bios_test)"
   ]
  },
  {
   "cell_type": "code",
   "execution_count": null,
   "id": "529f3b26",
   "metadata": {},
   "outputs": [],
   "source": [
    "def _bios(self, X, pS):\n",
    "        i, s, o = 0, 1, 2 # variables \n",
    "\n",
    "\n",
    "        b = jnp.einsum(self.O, [i,s,o], pS, [s], [i,s,o], optimize=self.opti)\n",
    "        bsum = b.sum(axis=1, keepdims=True)\n",
    "        bsum = bsum + (bsum == 0)  # to avoid dividing by zero\n",
    "        Biso = b / bsum\n",
    "        Bios = jnp.swapaxes(Biso, 1,-1)\n",
    "        \n",
    "        return Bios\n",
    "        \n",
    "def fast_Bios(self, X):\n",
    "        \"\"\"\n",
    "        Compute 'belief' that environment is in stats s given agent i\n",
    "        observes observation o (Bayes Rule)\n",
    "        \n",
    "        Unsafe when stationary state distribution is not unique\n",
    "        (i.e., when policies are too extreme)\n",
    "        \"\"\"\n",
    "        i, s, o = 0, 1, 2 # variables \n",
    "        # pS = self.statedist(X) # from full obs base (requires Tss from above)\n",
    "        pS = self._jaxPs(X, self._last_statedist)\n",
    "        \n",
    "\n",
    "        b = jnp.einsum(self.O, [i,s,o], pS, [s], [i,s,o], optimize=self.opti)\n",
    "        bsum = b.sum(axis=1, keepdims=True)\n",
    "        bsum = bsum + (bsum == 0)  # to avoid dividing by zero\n",
    "        Biso = b / bsum\n",
    "        Bios = jnp.swapaxes(Biso, 1,-1)"
   ]
  },
  {
   "cell_type": "code",
   "execution_count": 29,
   "id": "602c021d",
   "metadata": {},
   "outputs": [],
   "source": [
    "def _bios_with_epsilon(self, X, pS):\n",
    "        i, s, o = 0, 1, 2 # variables \n",
    "\n",
    "        pS[pS == 0] = 10e-10\n",
    "\n",
    "\n",
    "        b = jnp.einsum(self.O, [i,s,o], pS, [s], [i,s,o], optimize=self.opti)\n",
    "        bsum = b.sum(axis=1, keepdims=True)\n",
    "        bsum = bsum + (bsum == 0)  # to avoid dividing by zero\n",
    "        Biso = b / bsum\n",
    "        Bios = jnp.swapaxes(Biso, 1,-1)\n",
    "        \n",
    "        return Bios\n",
    "\n",
    "   \n",
    "\n",
    "def fast_Bios_with_epsilon(self, X):\n",
    "        \"\"\"\n",
    "        Compute 'belief' that environment is in stats s given agent i\n",
    "        observes observation o (Bayes Rule)\n",
    "        \n",
    "        Unsafe when stationary state distribution is not unique\n",
    "        (i.e., when policies are too extreme)\n",
    "        \"\"\"\n",
    "        i, s, o = 0, 1, 2 # variables \n",
    "        # pS = self.statedist(X) # from full obs base (requires Tss from above)\n",
    "        pS = self._jaxPs(X, self._last_statedist)\n",
    "        \n",
    "        pS[pS == 0] = 10e-10\n",
    "        b = jnp.einsum(self.O, [i,s,o], pS, [s], [i,s,o], optimize=self.opti)\n",
    "        bsum = b.sum(axis=1, keepdims=True)\n",
    "        bsum = bsum + (bsum == 0)  # to avoid dividing by zero\n",
    "        Biso = b / bsum\n",
    "        Bios = jnp.swapaxes(Biso, 1,-1)"
   ]
  },
  {
   "cell_type": "markdown",
   "id": "9995eece",
   "metadata": {},
   "source": [
    "### Experiments and Observations "
   ]
  }
 ],
 "metadata": {
  "kernelspec": {
   "display_name": "Python 3",
   "language": "python",
   "name": "python3"
  },
  "language_info": {
   "codemirror_mode": {
    "name": "ipython",
    "version": 3
   },
   "file_extension": ".py",
   "mimetype": "text/x-python",
   "name": "python",
   "nbconvert_exporter": "python",
   "pygments_lexer": "ipython3",
   "version": "3.13.2"
  }
 },
 "nbformat": 4,
 "nbformat_minor": 5
}
