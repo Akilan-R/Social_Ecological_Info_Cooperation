{
 "cells": [
  {
   "cell_type": "code",
   "execution_count": 8,
   "id": "2a99f35f-d960-411d-868c-4d789c9e6a6a",
   "metadata": {},
   "outputs": [],
   "source": [
    "%run imports.ipynb\n",
    "%run information_conditions.ipynb import Information_Conditions\n",
    "%run base_ecopg.ipynb import BaseEcologicalPublicGood\n",
    "%run helper_functions.ipynb import *\n",
    "%run simulation_and_results_functions.ipynb import *"
   ]
  },
  {
   "cell_type": "code",
   "execution_count": null,
   "id": "cdfd0706",
   "metadata": {},
   "outputs": [
    {
     "name": "stdout",
     "output_type": "stream",
     "text": [
      "{'num_samples': 50, 'degraded_choice': False, 'm_value': -6, 'discount_factor': 0.98, 'exclude_degraded_state_for_average_cooperation': True, 'information_modes': ['both_state_and_action_information', 'only_action_history_information', 'only_state_information', 'no_information']}\n"
     ]
    }
   ],
   "source": [
    "\n",
    "def compare_conditions_cooperation_basin_size(num_samples= 100, degraded_choice = False, m_value = -6, discount_factor = 0.98, exclude_degraded_state_for_average_cooperation = True , information_modes = all_information_modes):\n",
    "    \"\"\"\n",
    "    Runs simulations for different information conditions and outputs \n",
    "    the results for each condition.\n",
    "    \n",
    "    Parameters:\n",
    "        ecopg (EcologicalPublicGood): An instance of the ecological public good model.\n",
    "        num_samples (int): Number of initial conditions to sample.\n",
    "        Tmax (int): Maximum time steps for trajectory simulation.\n",
    "        tolerance (float): Convergence tolerance for fixed point detection.\n",
    "        \n",
    "    Returns:\n",
    "        None (prints the output summaries for each information condition)\n",
    "    \"\"\"\n",
    "\n",
    "    print(locals())\n",
    "    \n",
    "    basin_of_attraction_cooperation_results = {}\n",
    "    \n",
    "    \n",
    "    ecopg = BaseEcologicalPublicGood(m = m_value, degraded_choice=degraded_choice)\n",
    "\n",
    "    for mode in information_modes:\n",
    "        # Initialize the information condition\n",
    "        information_condition_instance = Information_Conditions(ecopg, mode=mode)\n",
    "        mae = POstratAC_eps(env=information_condition_instance, learning_rates=0.01, discount_factors= discount_factor)\n",
    "\n",
    "        # Data storage\n",
    "\n",
    "        # print(f\"\\nMode: {mode}\")\n",
    "\n",
    "        avg_coop_time_pairs = run_simulation_across_conditions(\n",
    "            mae = mae, \n",
    "            mode = mode,\n",
    "            num_samples = num_samples, \n",
    "            exclude_degraded_state_for_average_cooperation = exclude_degraded_state_for_average_cooperation\n",
    "        )\n",
    "\n",
    "        cooperation_basin_size = get_results_only_cooperation_basin_of_attraction_size(avg_coop_time_pairs)\n",
    "\n",
    "        basin_of_attraction_cooperation_results[mode] = cooperation_basin_size\n",
    "\n",
    "\n",
    "    return basin_of_attraction_cooperation_results\n",
    "    \n",
    "\n",
    "# Example usage:\n",
    "data = compare_conditions_cooperation_basin_size(degraded_choice=False)\n"
   ]
  },
  {
   "cell_type": "code",
   "execution_count": null,
   "id": "ac40af71",
   "metadata": {},
   "outputs": [
    {
     "name": "stdout",
     "output_type": "stream",
     "text": [
      "{'num_samples': 1000, 'degraded_choice': False, 'm_value': -6, 'discount_factor': 0.98, 'exclude_degraded_state_for_average_cooperation': True, 'information_modes': ['both_state_and_action_information', 'only_action_history_information', 'only_state_information', 'no_information']}\n",
      "Warning: Fixed point not reached within 50000 iterations [[[0.257 0.743]\n",
      "  [0.201 0.799]\n",
      "  [0.971 0.029]\n",
      "  [0.766 0.234]]\n",
      "\n",
      " [[0.102 0.898]\n",
      "  [0.93  0.07 ]\n",
      "  [0.017 0.983]\n",
      "  [0.559 0.441]]] only_action_history_information\n",
      "Warning: Fixed point not reached within 50000 iterations [[[0.704 0.296]\n",
      "  [0.581 0.419]\n",
      "  [1.    0.   ]\n",
      "  [0.834 0.166]]\n",
      "\n",
      " [[0.775 0.225]\n",
      "  [0.26  0.74 ]\n",
      "  [0.98  0.02 ]\n",
      "  [0.522 0.478]]] only_action_history_information\n",
      "Warning: Fixed point not reached within 50000 iterations [[[0.884 0.116]\n",
      "  [0.421 0.579]\n",
      "  [0.98  0.02 ]\n",
      "  [0.193 0.807]]\n",
      "\n",
      " [[0.864 0.136]\n",
      "  [0.968 0.032]\n",
      "  [0.916 0.084]\n",
      "  [0.412 0.588]]] only_action_history_information\n",
      "Warning: Fixed point not reached within 50000 iterations [[[0.968 0.032]\n",
      "  [0.323 0.677]\n",
      "  [0.639 0.361]\n",
      "  [0.046 0.954]]\n",
      "\n",
      " [[0.607 0.393]\n",
      "  [0.986 0.014]\n",
      "  [0.03  0.97 ]\n",
      "  [0.161 0.839]]] only_action_history_information\n",
      "Warning: Fixed point not reached within 50000 iterations [[[0.707 0.293]\n",
      "  [0.277 0.723]\n",
      "  [0.949 0.051]\n",
      "  [0.027 0.973]]\n",
      "\n",
      " [[0.676 0.324]\n",
      "  [0.828 0.172]\n",
      "  [0.192 0.808]\n",
      "  [0.988 0.012]]] only_action_history_information\n",
      "Warning: Fixed point not reached within 50000 iterations [[[0.135 0.865]\n",
      "  [0.479 0.521]\n",
      "  [0.999 0.001]\n",
      "  [0.928 0.072]]\n",
      "\n",
      " [[0.48  0.52 ]\n",
      "  [0.596 0.404]\n",
      "  [0.617 0.383]\n",
      "  [0.308 0.692]]] only_action_history_information\n",
      "Warning: Fixed point not reached within 50000 iterations [[[0.012 0.988]\n",
      "  [0.232 0.768]\n",
      "  [0.997 0.003]\n",
      "  [0.346 0.654]]\n",
      "\n",
      " [[0.233 0.767]\n",
      "  [0.856 0.144]\n",
      "  [0.766 0.234]\n",
      "  [0.158 0.842]]] only_action_history_information\n",
      "Warning: Fixed point not reached within 50000 iterations [[[0.822 0.178]\n",
      "  [0.735 0.265]\n",
      "  [0.636 0.364]\n",
      "  [0.101 0.899]]\n",
      "\n",
      " [[0.949 0.051]\n",
      "  [0.509 0.491]\n",
      "  [0.232 0.768]\n",
      "  [0.345 0.655]]] only_action_history_information\n",
      "Warning: Fixed point not reached within 50000 iterations [[[0.21  0.79 ]\n",
      "  [0.06  0.94 ]\n",
      "  [0.992 0.008]\n",
      "  [0.6   0.4  ]]\n",
      "\n",
      " [[0.068 0.932]\n",
      "  [0.839 0.161]\n",
      "  [0.705 0.295]\n",
      "  [0.444 0.556]]] only_action_history_information\n",
      "Warning: Fixed point not reached within 50000 iterations [[[0.957 0.043]\n",
      "  [0.178 0.822]\n",
      "  [0.977 0.023]\n",
      "  [0.527 0.473]]\n",
      "\n",
      " [[0.127 0.873]\n",
      "  [0.925 0.075]\n",
      "  [0.134 0.866]\n",
      "  [0.373 0.627]]] only_action_history_information\n",
      "Warning: Fixed point not reached within 50000 iterations [[[0.215 0.785]\n",
      "  [0.09  0.91 ]\n",
      "  [0.262 0.738]\n",
      "  [0.015 0.985]]\n",
      "\n",
      " [[0.582 0.418]\n",
      "  [0.165 0.835]\n",
      "  [0.989 0.011]\n",
      "  [0.154 0.846]]] only_action_history_information\n",
      "Warning: Fixed point not reached within 50000 iterations [[[0.561 0.439]\n",
      "  [0.211 0.789]\n",
      "  [0.38  0.62 ]\n",
      "  [0.244 0.756]]\n",
      "\n",
      " [[0.775 0.225]\n",
      "  [1.    0.   ]\n",
      "  [0.084 0.916]\n",
      "  [0.823 0.177]]] only_action_history_information\n"
     ]
    }
   ],
   "source": [
    "data = compare_conditions_cooperation_basin_size(degraded_choice=False)\n",
    "# print(data_test)"
   ]
  },
  {
   "cell_type": "code",
   "execution_count": null,
   "id": "10e58bd4",
   "metadata": {},
   "outputs": [],
   "source": [
    "# np.save('data_500_samples_0.9_0.1.npy', data)\n",
    "\n",
    "import pickle\n",
    "\n",
    "# Your dictionary\n",
    "\n",
    "# Save to file\n",
    "with open('data_500_samples_0.9_0.1', 'wb') as f:\n",
    "    pickle.dump(data, f)\n"
   ]
  },
  {
   "cell_type": "code",
   "execution_count": null,
   "id": "dd0b96d3",
   "metadata": {},
   "outputs": [
    {
     "name": "stdout",
     "output_type": "stream",
     "text": [
      "{'both_state_and_action_information': np.float64(65.0), 'only_action_history_information': np.float64(3.8), 'only_state_information': np.float64(66.6), 'no_information': 0}\n"
     ]
    }
   ],
   "source": [
    "print(data)\n"
   ]
  },
  {
   "cell_type": "code",
   "execution_count": null,
   "id": "c32460f4",
   "metadata": {},
   "outputs": [
    {
     "name": "stdout",
     "output_type": "stream",
     "text": [
      "Extracted Cooperation Basin Size: [np.float64(65.0), np.float64(3.8), np.float64(66.6), 0]\n"
     ]
    },
    {
     "data": {
      "application/vnd.plotly.v1+json": {
       "config": {
        "plotlyServerURL": "https://plot.ly"
       },
       "data": [
        {
         "marker": {
          "color": "#4c72b0"
         },
         "name": "Both Social and Ecological State Information",
         "text": "65.0%",
         "textfont": {
          "color": "black",
          "size": 15
         },
         "textposition": "outside",
         "type": "bar",
         "x": [
          "Both Social and Ecological State Information"
         ],
         "y": [
          65
         ]
        },
        {
         "marker": {
          "color": "#FFB6C1"
         },
         "name": "Only Social Information",
         "text": "3.8%",
         "textfont": {
          "color": "black",
          "size": 15
         },
         "textposition": "outside",
         "type": "bar",
         "x": [
          "Only Social Information"
         ],
         "y": [
          3.8
         ]
        },
        {
         "marker": {
          "color": "#55a868"
         },
         "name": "Only Ecological State Information",
         "text": "66.6%",
         "textfont": {
          "color": "black",
          "size": 15
         },
         "textposition": "outside",
         "type": "bar",
         "x": [
          "Only Ecological State Information"
         ],
         "y": [
          66.6
         ]
        },
        {
         "legendgroup": "No Information",
         "marker": {
          "color": "rgba(0,0,0,0)",
          "line": {
           "color": "#000000",
           "width": 4
          }
         },
         "showlegend": false,
         "text": "0.0%",
         "textfont": {
          "color": "black",
          "size": 15
         },
         "textposition": "outside",
         "type": "bar",
         "x": [
          "No Information"
         ],
         "y": [
          0
         ]
        },
        {
         "legendgroup": "No Information",
         "marker": {
          "color": "#000000"
         },
         "name": "No Information",
         "type": "bar",
         "x": [
          null
         ],
         "y": [
          null
         ]
        }
       ],
       "layout": {
        "bargap": 0,
        "height": 675,
        "legend": {
         "font": {
          "color": "black",
          "size": 13.5
         },
         "orientation": "h",
         "title": {
          "text": ""
         },
         "x": 0.5,
         "xanchor": "center",
         "y": -0.3,
         "yanchor": "bottom"
        },
        "plot_bgcolor": "snow",
        "template": {
         "data": {
          "bar": [
           {
            "error_x": {
             "color": "#2a3f5f"
            },
            "error_y": {
             "color": "#2a3f5f"
            },
            "marker": {
             "line": {
              "color": "#E5ECF6",
              "width": 0.5
             },
             "pattern": {
              "fillmode": "overlay",
              "size": 10,
              "solidity": 0.2
             }
            },
            "type": "bar"
           }
          ],
          "barpolar": [
           {
            "marker": {
             "line": {
              "color": "#E5ECF6",
              "width": 0.5
             },
             "pattern": {
              "fillmode": "overlay",
              "size": 10,
              "solidity": 0.2
             }
            },
            "type": "barpolar"
           }
          ],
          "carpet": [
           {
            "aaxis": {
             "endlinecolor": "#2a3f5f",
             "gridcolor": "white",
             "linecolor": "white",
             "minorgridcolor": "white",
             "startlinecolor": "#2a3f5f"
            },
            "baxis": {
             "endlinecolor": "#2a3f5f",
             "gridcolor": "white",
             "linecolor": "white",
             "minorgridcolor": "white",
             "startlinecolor": "#2a3f5f"
            },
            "type": "carpet"
           }
          ],
          "choropleth": [
           {
            "colorbar": {
             "outlinewidth": 0,
             "ticks": ""
            },
            "type": "choropleth"
           }
          ],
          "contour": [
           {
            "colorbar": {
             "outlinewidth": 0,
             "ticks": ""
            },
            "colorscale": [
             [
              0,
              "#0d0887"
             ],
             [
              0.1111111111111111,
              "#46039f"
             ],
             [
              0.2222222222222222,
              "#7201a8"
             ],
             [
              0.3333333333333333,
              "#9c179e"
             ],
             [
              0.4444444444444444,
              "#bd3786"
             ],
             [
              0.5555555555555556,
              "#d8576b"
             ],
             [
              0.6666666666666666,
              "#ed7953"
             ],
             [
              0.7777777777777778,
              "#fb9f3a"
             ],
             [
              0.8888888888888888,
              "#fdca26"
             ],
             [
              1,
              "#f0f921"
             ]
            ],
            "type": "contour"
           }
          ],
          "contourcarpet": [
           {
            "colorbar": {
             "outlinewidth": 0,
             "ticks": ""
            },
            "type": "contourcarpet"
           }
          ],
          "heatmap": [
           {
            "colorbar": {
             "outlinewidth": 0,
             "ticks": ""
            },
            "colorscale": [
             [
              0,
              "#0d0887"
             ],
             [
              0.1111111111111111,
              "#46039f"
             ],
             [
              0.2222222222222222,
              "#7201a8"
             ],
             [
              0.3333333333333333,
              "#9c179e"
             ],
             [
              0.4444444444444444,
              "#bd3786"
             ],
             [
              0.5555555555555556,
              "#d8576b"
             ],
             [
              0.6666666666666666,
              "#ed7953"
             ],
             [
              0.7777777777777778,
              "#fb9f3a"
             ],
             [
              0.8888888888888888,
              "#fdca26"
             ],
             [
              1,
              "#f0f921"
             ]
            ],
            "type": "heatmap"
           }
          ],
          "histogram": [
           {
            "marker": {
             "pattern": {
              "fillmode": "overlay",
              "size": 10,
              "solidity": 0.2
             }
            },
            "type": "histogram"
           }
          ],
          "histogram2d": [
           {
            "colorbar": {
             "outlinewidth": 0,
             "ticks": ""
            },
            "colorscale": [
             [
              0,
              "#0d0887"
             ],
             [
              0.1111111111111111,
              "#46039f"
             ],
             [
              0.2222222222222222,
              "#7201a8"
             ],
             [
              0.3333333333333333,
              "#9c179e"
             ],
             [
              0.4444444444444444,
              "#bd3786"
             ],
             [
              0.5555555555555556,
              "#d8576b"
             ],
             [
              0.6666666666666666,
              "#ed7953"
             ],
             [
              0.7777777777777778,
              "#fb9f3a"
             ],
             [
              0.8888888888888888,
              "#fdca26"
             ],
             [
              1,
              "#f0f921"
             ]
            ],
            "type": "histogram2d"
           }
          ],
          "histogram2dcontour": [
           {
            "colorbar": {
             "outlinewidth": 0,
             "ticks": ""
            },
            "colorscale": [
             [
              0,
              "#0d0887"
             ],
             [
              0.1111111111111111,
              "#46039f"
             ],
             [
              0.2222222222222222,
              "#7201a8"
             ],
             [
              0.3333333333333333,
              "#9c179e"
             ],
             [
              0.4444444444444444,
              "#bd3786"
             ],
             [
              0.5555555555555556,
              "#d8576b"
             ],
             [
              0.6666666666666666,
              "#ed7953"
             ],
             [
              0.7777777777777778,
              "#fb9f3a"
             ],
             [
              0.8888888888888888,
              "#fdca26"
             ],
             [
              1,
              "#f0f921"
             ]
            ],
            "type": "histogram2dcontour"
           }
          ],
          "mesh3d": [
           {
            "colorbar": {
             "outlinewidth": 0,
             "ticks": ""
            },
            "type": "mesh3d"
           }
          ],
          "parcoords": [
           {
            "line": {
             "colorbar": {
              "outlinewidth": 0,
              "ticks": ""
             }
            },
            "type": "parcoords"
           }
          ],
          "pie": [
           {
            "automargin": true,
            "type": "pie"
           }
          ],
          "scatter": [
           {
            "fillpattern": {
             "fillmode": "overlay",
             "size": 10,
             "solidity": 0.2
            },
            "type": "scatter"
           }
          ],
          "scatter3d": [
           {
            "line": {
             "colorbar": {
              "outlinewidth": 0,
              "ticks": ""
             }
            },
            "marker": {
             "colorbar": {
              "outlinewidth": 0,
              "ticks": ""
             }
            },
            "type": "scatter3d"
           }
          ],
          "scattercarpet": [
           {
            "marker": {
             "colorbar": {
              "outlinewidth": 0,
              "ticks": ""
             }
            },
            "type": "scattercarpet"
           }
          ],
          "scattergeo": [
           {
            "marker": {
             "colorbar": {
              "outlinewidth": 0,
              "ticks": ""
             }
            },
            "type": "scattergeo"
           }
          ],
          "scattergl": [
           {
            "marker": {
             "colorbar": {
              "outlinewidth": 0,
              "ticks": ""
             }
            },
            "type": "scattergl"
           }
          ],
          "scattermap": [
           {
            "marker": {
             "colorbar": {
              "outlinewidth": 0,
              "ticks": ""
             }
            },
            "type": "scattermap"
           }
          ],
          "scattermapbox": [
           {
            "marker": {
             "colorbar": {
              "outlinewidth": 0,
              "ticks": ""
             }
            },
            "type": "scattermapbox"
           }
          ],
          "scatterpolar": [
           {
            "marker": {
             "colorbar": {
              "outlinewidth": 0,
              "ticks": ""
             }
            },
            "type": "scatterpolar"
           }
          ],
          "scatterpolargl": [
           {
            "marker": {
             "colorbar": {
              "outlinewidth": 0,
              "ticks": ""
             }
            },
            "type": "scatterpolargl"
           }
          ],
          "scatterternary": [
           {
            "marker": {
             "colorbar": {
              "outlinewidth": 0,
              "ticks": ""
             }
            },
            "type": "scatterternary"
           }
          ],
          "surface": [
           {
            "colorbar": {
             "outlinewidth": 0,
             "ticks": ""
            },
            "colorscale": [
             [
              0,
              "#0d0887"
             ],
             [
              0.1111111111111111,
              "#46039f"
             ],
             [
              0.2222222222222222,
              "#7201a8"
             ],
             [
              0.3333333333333333,
              "#9c179e"
             ],
             [
              0.4444444444444444,
              "#bd3786"
             ],
             [
              0.5555555555555556,
              "#d8576b"
             ],
             [
              0.6666666666666666,
              "#ed7953"
             ],
             [
              0.7777777777777778,
              "#fb9f3a"
             ],
             [
              0.8888888888888888,
              "#fdca26"
             ],
             [
              1,
              "#f0f921"
             ]
            ],
            "type": "surface"
           }
          ],
          "table": [
           {
            "cells": {
             "fill": {
              "color": "#EBF0F8"
             },
             "line": {
              "color": "white"
             }
            },
            "header": {
             "fill": {
              "color": "#C8D4E3"
             },
             "line": {
              "color": "white"
             }
            },
            "type": "table"
           }
          ]
         },
         "layout": {
          "annotationdefaults": {
           "arrowcolor": "#2a3f5f",
           "arrowhead": 0,
           "arrowwidth": 1
          },
          "autotypenumbers": "strict",
          "coloraxis": {
           "colorbar": {
            "outlinewidth": 0,
            "ticks": ""
           }
          },
          "colorscale": {
           "diverging": [
            [
             0,
             "#8e0152"
            ],
            [
             0.1,
             "#c51b7d"
            ],
            [
             0.2,
             "#de77ae"
            ],
            [
             0.3,
             "#f1b6da"
            ],
            [
             0.4,
             "#fde0ef"
            ],
            [
             0.5,
             "#f7f7f7"
            ],
            [
             0.6,
             "#e6f5d0"
            ],
            [
             0.7,
             "#b8e186"
            ],
            [
             0.8,
             "#7fbc41"
            ],
            [
             0.9,
             "#4d9221"
            ],
            [
             1,
             "#276419"
            ]
           ],
           "sequential": [
            [
             0,
             "#0d0887"
            ],
            [
             0.1111111111111111,
             "#46039f"
            ],
            [
             0.2222222222222222,
             "#7201a8"
            ],
            [
             0.3333333333333333,
             "#9c179e"
            ],
            [
             0.4444444444444444,
             "#bd3786"
            ],
            [
             0.5555555555555556,
             "#d8576b"
            ],
            [
             0.6666666666666666,
             "#ed7953"
            ],
            [
             0.7777777777777778,
             "#fb9f3a"
            ],
            [
             0.8888888888888888,
             "#fdca26"
            ],
            [
             1,
             "#f0f921"
            ]
           ],
           "sequentialminus": [
            [
             0,
             "#0d0887"
            ],
            [
             0.1111111111111111,
             "#46039f"
            ],
            [
             0.2222222222222222,
             "#7201a8"
            ],
            [
             0.3333333333333333,
             "#9c179e"
            ],
            [
             0.4444444444444444,
             "#bd3786"
            ],
            [
             0.5555555555555556,
             "#d8576b"
            ],
            [
             0.6666666666666666,
             "#ed7953"
            ],
            [
             0.7777777777777778,
             "#fb9f3a"
            ],
            [
             0.8888888888888888,
             "#fdca26"
            ],
            [
             1,
             "#f0f921"
            ]
           ]
          },
          "colorway": [
           "#636efa",
           "#EF553B",
           "#00cc96",
           "#ab63fa",
           "#FFA15A",
           "#19d3f3",
           "#FF6692",
           "#B6E880",
           "#FF97FF",
           "#FECB52"
          ],
          "font": {
           "color": "#2a3f5f"
          },
          "geo": {
           "bgcolor": "white",
           "lakecolor": "white",
           "landcolor": "#E5ECF6",
           "showlakes": true,
           "showland": true,
           "subunitcolor": "white"
          },
          "hoverlabel": {
           "align": "left"
          },
          "hovermode": "closest",
          "mapbox": {
           "style": "light"
          },
          "paper_bgcolor": "white",
          "plot_bgcolor": "#E5ECF6",
          "polar": {
           "angularaxis": {
            "gridcolor": "white",
            "linecolor": "white",
            "ticks": ""
           },
           "bgcolor": "#E5ECF6",
           "radialaxis": {
            "gridcolor": "white",
            "linecolor": "white",
            "ticks": ""
           }
          },
          "scene": {
           "xaxis": {
            "backgroundcolor": "#E5ECF6",
            "gridcolor": "white",
            "gridwidth": 2,
            "linecolor": "white",
            "showbackground": true,
            "ticks": "",
            "zerolinecolor": "white"
           },
           "yaxis": {
            "backgroundcolor": "#E5ECF6",
            "gridcolor": "white",
            "gridwidth": 2,
            "linecolor": "white",
            "showbackground": true,
            "ticks": "",
            "zerolinecolor": "white"
           },
           "zaxis": {
            "backgroundcolor": "#E5ECF6",
            "gridcolor": "white",
            "gridwidth": 2,
            "linecolor": "white",
            "showbackground": true,
            "ticks": "",
            "zerolinecolor": "white"
           }
          },
          "shapedefaults": {
           "line": {
            "color": "#2a3f5f"
           }
          },
          "ternary": {
           "aaxis": {
            "gridcolor": "white",
            "linecolor": "white",
            "ticks": ""
           },
           "baxis": {
            "gridcolor": "white",
            "linecolor": "white",
            "ticks": ""
           },
           "bgcolor": "#E5ECF6",
           "caxis": {
            "gridcolor": "white",
            "linecolor": "white",
            "ticks": ""
           }
          },
          "title": {
           "x": 0.05
          },
          "xaxis": {
           "automargin": true,
           "gridcolor": "white",
           "linecolor": "white",
           "ticks": "",
           "title": {
            "standoff": 15
           },
           "zerolinecolor": "white",
           "zerolinewidth": 2
          },
          "yaxis": {
           "automargin": true,
           "gridcolor": "white",
           "linecolor": "white",
           "ticks": "",
           "title": {
            "standoff": 15
           },
           "zerolinecolor": "white",
           "zerolinewidth": 2
          }
         }
        },
        "width": 500,
        "xaxis": {
         "showticklabels": false,
         "title": {
          "text": ""
         }
        },
        "yaxis": {
         "range": [
          0,
          100
         ],
         "tickfont": {
          "size": 18
         },
         "title": {
          "text": "Cooperation Basin Size (%)"
         }
        }
       }
      }
     },
     "metadata": {},
     "output_type": "display_data"
    }
   ],
   "source": [
    "\n",
    "# Extract cooperation percentages correctly from the DataFrame\n",
    "\n",
    "# Define the conditions in order\n",
    "\n",
    "\n",
    "# Extract cooperation percentages\n",
    "cooperation_basin_size = [(data[condition]) for condition in all_information_modes]\n",
    "\n",
    "# Debugging output\n",
    "print(\"Extracted Cooperation Basin Size:\", cooperation_basin_size)\n",
    "\n",
    "conditions = [\n",
    "    \"Both Social and Ecological State Information\", \n",
    "    \"Only Social Information\", \n",
    "    \"Only Ecological State Information\", \n",
    "    \"No Information\"\n",
    "]\n",
    "\n",
    "# Create DataFrame for plotting\n",
    "plot_df = pd.DataFrame({\n",
    "    'Information Condition': conditions,\n",
    "    'Cooperation Basin Size': cooperation_basin_size\n",
    "})\n",
    "\n",
    "# Define a color palette\n",
    "color_map = {\n",
    "    \"Both Social and Ecological State Information\": \"#4c72b0\",  # Muted Blue\n",
    "    \"Only Social Information\": \"#FFB6C1\",  # Muted Pink\n",
    "    \"Only Ecological State Information\": \"#55a868\",  # Muted Green\n",
    "    \"No Information\": \"#000000\"  # Black\n",
    "}\n",
    "\n",
    "# Create figure\n",
    "fig = go.Figure()\n",
    "\n",
    "for i, row in plot_df.iterrows():\n",
    "    condition = row['Information Condition']\n",
    "    percentage = row['Cooperation Basin Size']\n",
    "    color = color_map[condition]\n",
    "    \n",
    "    if percentage == 0:\n",
    "        # 1. Actual outline bars for zero values (shown in the plot)\n",
    "        fig.add_trace(go.Bar(\n",
    "            x=[condition], \n",
    "            y=[percentage], \n",
    "            marker=dict(color='rgba(0,0,0,0)', line=dict(color=color, width=4)),\n",
    "            text=f\"{float(percentage):.1f}%\",\n",
    "            textposition='outside',\n",
    "            textfont=dict(size=15, color='black'),  # Larger, darker percentage text\n",
    "            showlegend=False,  # Don't show this in the legend\n",
    "            legendgroup=condition  # Group legend with the solid bar\n",
    "        ))\n",
    "\n",
    "        # 2. Hidden solid legend bar (only for legend display)\n",
    "        fig.add_trace(go.Bar(\n",
    "            x=[None],  # Invisible bar in the plot\n",
    "            y=[None],\n",
    "            name=condition,\n",
    "            marker=dict(color=color),  # Filled marker for the legend\n",
    "            legendgroup=condition  # Matches legend with outline bar\n",
    "        ))\n",
    "\n",
    "    else:\n",
    "        # Normal filled bars\n",
    "        fig.add_trace(go.Bar(\n",
    "            x=[condition], \n",
    "            y=[percentage], \n",
    "            name=condition,\n",
    "            marker=dict(color=color),\n",
    "            text=f\"{float(percentage):.1f}%\",\n",
    "            textposition='outside',\n",
    "            textfont=dict(size=15, color='black')  # Larger, darker percentage text\n",
    "        ))\n",
    "\n",
    "# Update layout for aesthetics\n",
    "fig.update_layout(\n",
    "    yaxis_title=\"Cooperation Basin Size (%)\",\n",
    "    yaxis=dict(\n",
    "        range=[0, 100],\n",
    "        tickfont=dict(size=18)  # Larger, darker y-axis label\n",
    "    ),\n",
    "    xaxis=dict(title='', showticklabels=False),\n",
    "    plot_bgcolor='snow',  # Clean background\n",
    "    width=500,\n",
    "    height=675,\n",
    "    bargap=0,  # Minimize gaps\n",
    "    legend=dict(\n",
    "        title=\"\",\n",
    "        orientation=\"h\",\n",
    "        yanchor=\"bottom\",\n",
    "        y=-0.3,\n",
    "        xanchor=\"center\",\n",
    "        x=0.5,\n",
    "    font=dict(size=13.5, color='black')\n",
    "    )\n",
    ")\n",
    "\n",
    "# Show figure\n",
    "fig.show()\n",
    "\n",
    "\n"
   ]
  }
 ],
 "metadata": {
  "kernelspec": {
   "display_name": "Python 3",
   "language": "python",
   "name": "python3"
  },
  "language_info": {
   "codemirror_mode": {
    "name": "ipython",
    "version": 3
   },
   "file_extension": ".py",
   "mimetype": "text/x-python",
   "name": "python",
   "nbconvert_exporter": "python",
   "pygments_lexer": "ipython3",
   "version": "3.13.2"
  }
 },
 "nbformat": 4,
 "nbformat_minor": 5
}
