{
 "cells": [
  {
   "cell_type": "code",
   "execution_count": 1,
   "id": "4bdf81ee",
   "metadata": {},
   "outputs": [],
   "source": [
    "import numpy as np\n",
    "import matplotlib.pyplot as plt\n",
    "import copy\n",
    "\n",
    "from pyCRLD.Environments.SocialDilemma import SocialDilemma\n",
    "from pyCRLD.Environments.EcologicalPublicGood import EcologicalPublicGood\n",
    "\n",
    "from pyCRLD.Agents.StrategyActorCritic import stratAC\n",
    "from pyCRLD.Agents.POStrategyActorCritic import POstratAC\n",
    "from pyCRLD.Agents.POStrategyActorCritic_eps import POstratAC_eps\n",
    "\n",
    "\n",
    "from pyCRLD.Utils import FlowPlot as fp\n",
    "from fastcore.utils import *\n",
    "from jax import jit\n",
    "import jax.numpy as jnp\n",
    "from pyCRLD.Environments.HistoryEmbedding import HistoryEmbedded\n",
    "\n",
    "from nbdev.showdoc import show_doc\n",
    "from scipy.stats import kstest\n",
    "\n",
    "from scipy.stats import qmc\n",
    "import itertools as it\n",
    "import pandas as pd\n",
    "import plotly.graph_objects as go\n",
    "\n",
    "\n",
    "global_seed = 42\n",
    "np.random.seed(global_seed)"
   ]
  }
 ],
 "metadata": {
  "kernelspec": {
   "display_name": "Python 3",
   "language": "python",
   "name": "python3"
  },
  "language_info": {
   "codemirror_mode": {
    "name": "ipython",
    "version": 3
   },
   "file_extension": ".py",
   "mimetype": "text/x-python",
   "name": "python",
   "nbconvert_exporter": "python",
   "pygments_lexer": "ipython3",
   "version": "3.13.2"
  }
 },
 "nbformat": 4,
 "nbformat_minor": 5
}
