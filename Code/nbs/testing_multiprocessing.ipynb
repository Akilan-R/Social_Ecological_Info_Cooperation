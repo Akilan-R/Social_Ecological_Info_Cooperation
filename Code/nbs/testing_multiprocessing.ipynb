{
 "cells": [
  {
   "cell_type": "code",
   "execution_count": null,
   "id": "2632fa3d",
   "metadata": {},
   "outputs": [
    {
     "name": "stdout",
     "output_type": "stream",
     "text": [
      "Running serial version:\n",
      "Serial time: 1.2265183925628662\n",
      "\n",
      "Running parallel version:\n"
     ]
    }
   ],
   "source": [
    "import time\n",
    "import math\n",
    "from multiprocessing import Pool\n",
    "\n",
    "# CPU-heavy function\n",
    "def compute_heavy_task(n):\n",
    "    total = 0\n",
    "    for i in range(10000000):\n",
    "        total += math.sqrt(i % (n + 1))\n",
    "    return total\n",
    "\n",
    "def run_serial():\n",
    "    start = time.time()\n",
    "    results = [compute_heavy_task(i) for i in range(4)]\n",
    "    end = time.time()\n",
    "    print(\"Serial time:\", end - start)\n",
    "    return results\n",
    "\n",
    "def run_parallel():\n",
    "    start = time.time()\n",
    "    with Pool() as pool:\n",
    "        results = pool.map(compute_heavy_task, range(4))\n",
    "    end = time.time()\n",
    "    print(\"Parallel time:\", end - start)\n",
    "    return results\n",
    "\n",
    "if __name__ == '__main__':\n",
    "    print(\"Running serial version:\")\n",
    "    run_serial()\n",
    "\n",
    "    print(\"\\nRunning parallel version:\")\n",
    "    run_parallel()\n"
   ]
  },
  {
   "cell_type": "code",
   "execution_count": 2,
   "id": "214e446b",
   "metadata": {},
   "outputs": [
    {
     "name": "stdout",
     "output_type": "stream",
     "text": [
      "[2, 4, 6, 8, 10]\n"
     ]
    }
   ],
   "source": [
    "def function_to_test(x):\n",
    "    y = x * 2\n",
    "    return y\n",
    "\n",
    "numbers = [1, 2, 3, 4, 5]\n",
    "results = map(function_to_test, numbers)\n",
    "print(list(results))"
   ]
  }
 ],
 "metadata": {
  "kernelspec": {
   "display_name": "Python 3",
   "language": "python",
   "name": "python3"
  },
  "language_info": {
   "codemirror_mode": {
    "name": "ipython",
    "version": 3
   },
   "file_extension": ".py",
   "mimetype": "text/x-python",
   "name": "python",
   "nbconvert_exporter": "python",
   "pygments_lexer": "ipython3",
   "version": "3.13.2"
  }
 },
 "nbformat": 4,
 "nbformat_minor": 5
}
