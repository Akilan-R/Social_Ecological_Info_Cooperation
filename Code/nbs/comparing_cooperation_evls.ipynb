{
 "cells": [
  {
   "cell_type": "code",
   "execution_count": 2,
   "id": "05cdecbf",
   "metadata": {},
   "outputs": [],
   "source": [
    "%run imports.ipynb\n",
    "%run information_conditions.ipynb import Information_Conditions\n",
    "%run base_ecopg.ipynb import BaseEcologicalPublicGood\n",
    "%run helper_functions.ipynb import *\n",
    "%run simulation_and_results_functions.ipynb import *"
   ]
  },
  {
   "cell_type": "code",
   "execution_count": 5,
   "id": "d28decf7",
   "metadata": {},
   "outputs": [
    {
     "name": "stdout",
     "output_type": "stream",
     "text": [
      "(np.float64(0.003),   Classification  MedianTimetoReach  Percentage\n",
      "0      Defection            11978.5       100.0)\n"
     ]
    }
   ],
   "source": [
    "'''ecopgg only social'''\n",
    "\n",
    "ecopg = BaseEcologicalPublicGood()\n",
    "information_condition_instance = Information_Conditions(ecopg, mode=\"only_action_history_information\")\n",
    "mae_ecopg = POstratAC_eps(env=information_condition_instance, learning_rates=0.05, discount_factors= 0.98)\n",
    "\n",
    "\n",
    "avg_coop_time_pairs = run_simulation_across_conditions(\n",
    "    mae = mae_ecopg, \n",
    "    mode = \"only_action_history_information\",\n",
    "    num_samples = 7, \n",
    "    exclude_degraded_state_for_average_cooperation = False\n",
    ")\n",
    "\n",
    "# print([avg_coop_time_pairs[i][1] for i in range(len(avg_coop_time_pairs))])\n",
    "\n",
    "results_summary = get_results_summary(avg_coop_time_pairs)\n",
    "\n",
    "print(results_summary)\n",
    "\n"
   ]
  },
  {
   "cell_type": "code",
   "execution_count": 4,
   "id": "6fc3162c",
   "metadata": {},
   "outputs": [],
   "source": [
    "f = ecopg.f[1]\n",
    "c = ecopg.c[1]\n",
    "\n",
    "socdi = SocialDilemma(R= f*c - c, T= f*c/2, S= f*c/2 - c, P= 0.0)\n",
    "memo1pd = HistoryEmbedded(socdi, h = (1, 1, 1))"
   ]
  },
  {
   "cell_type": "code",
   "execution_count": null,
   "id": "327c5cfd",
   "metadata": {},
   "outputs": [],
   "source": []
  },
  {
   "cell_type": "code",
   "execution_count": 6,
   "id": "3d91e234",
   "metadata": {},
   "outputs": [
    {
     "name": "stdout",
     "output_type": "stream",
     "text": [
      "(np.float64(0.0),   Classification  MedianTimetoReach  Percentage\n",
      "0      Defection              119.5       100.0)\n"
     ]
    },
    {
     "data": {
      "text/plain": [
       "'no coop'"
      ]
     },
     "execution_count": 6,
     "metadata": {},
     "output_type": "execute_result"
    }
   ],
   "source": [
    "'''memo1pd where the payoffs are the same as ecopg propso'''\n",
    "mae_memo1pd = POstratAC_eps(env=memo1pd, learning_rates=0.05, discount_factors= 0.98)\n",
    "\n",
    "\n",
    "avg_coop_time_pairs = run_simulation_across_conditions(\n",
    "    mae = mae_memo1pd, \n",
    "    mode = \"only_action_history_information\",\n",
    "    num_samples = 7, \n",
    "    exclude_degraded_state_for_average_cooperation = False\n",
    ")\n",
    "\n",
    "\n",
    "results_summary = get_results_summary(avg_coop_time_pairs)\n",
    "\n",
    "print(results_summary)\n",
    "\n",
    "'''no coop'''\n"
   ]
  },
  {
   "cell_type": "code",
   "execution_count": null,
   "id": "060443c1",
   "metadata": {},
   "outputs": [
    {
     "name": "stdout",
     "output_type": "stream",
     "text": [
      "(np.float64(0.0),   Classification  MedianTimetoReach  Percentage\n",
      "0      Defection              121.0       100.0)\n"
     ]
    }
   ],
   "source": [
    "'''ecopgg no transition to degraded state'''\n",
    "\n",
    "ecopg_no_transistion_to_degraded_state = BaseEcologicalPublicGood(qc = 0.0)\n",
    "information_condition_instance = Information_Conditions(ecopg_no_transistion_to_degraded_state, mode=\"only_action_history_information\")\n",
    "mae_ecopg = POstratAC_eps(env=information_condition_instance, learning_rates=0.05, discount_factors= 0.98)\n",
    "\n",
    "\n",
    "# Data storage\n",
    "\n",
    "# print(f\"\\nMode: {mode}\")\n",
    "\n",
    "avg_coop_time_pairs = run_simulation_across_conditions(\n",
    "    mae = mae_ecopg, \n",
    "    mode = \"only_action_history_information\",\n",
    "    num_samples = 7, \n",
    "    exclude_degraded_state_for_average_cooperation = False\n",
    ")\n",
    "\n",
    "results_summary = get_results_summary(avg_coop_time_pairs)\n",
    "\n",
    "print(results_summary)\n",
    "\n",
    "'''No coop again. (small time difference with memo1pd)'''"
   ]
  },
  {
   "cell_type": "code",
   "execution_count": 9,
   "id": "d78a1ba4",
   "metadata": {},
   "outputs": [
    {
     "name": "stdout",
     "output_type": "stream",
     "text": [
      "(np.float64(0.0),   Classification  MedianTimetoReach  Percentage\n",
      "0      Defection              120.0       100.0)\n"
     ]
    },
    {
     "data": {
      "text/plain": [
       "''"
      ]
     },
     "execution_count": 9,
     "metadata": {},
     "output_type": "execute_result"
    }
   ],
   "source": [
    "'''high discount factor, still no coop (for this R,T,S,P  values).\n",
    " Whne socdi = SocialDilemma(R=1.0, T= 3, S= -2, P=0.0) 0.99 is enough to acheive coop\"\"\n",
    " '''\n",
    "\n",
    "mae_memo1pd_high_discount_factor = POstratAC_eps(env=memo1pd, learning_rates=0.05, discount_factors= 0.99999)\n",
    "\n",
    "\n",
    "# Data storage\n",
    "\n",
    "# print(f\"\\nMode: {mode}\")\n",
    "\n",
    "avg_coop_time_pairs = run_simulation_across_conditions(\n",
    "    mae = mae_memo1pd_high_discount_factor, \n",
    "    mode = \"only_action_history_information\",\n",
    "    num_samples = 7, \n",
    "    exclude_degraded_state_for_average_cooperation = False\n",
    ")\n",
    "\n",
    "results_summary = get_results_summary(avg_coop_time_pairs)\n",
    "\n",
    "print(results_summary)\n",
    "\n",
    "\n",
    "''''''"
   ]
  },
  {
   "cell_type": "code",
   "execution_count": null,
   "id": "e9e2c10c",
   "metadata": {},
   "outputs": [
    {
     "name": "stdout",
     "output_type": "stream",
     "text": [
      "(np.float64(0.427),   Classification  MedianTimetoReach  Percentage\n",
      "0    Cooperation               87.0        10.7\n",
      "1      Defection               65.0        39.3\n",
      "2          Mixed              161.5        50.0)\n"
     ]
    }
   ],
   "source": [
    "'''ecopgg withd degradation and high discount factor'''\n",
    "\n",
    "ecopg = BaseEcologicalPublicGood()\n",
    "information_condition_instance = Information_Conditions(ecopg, mode=\"only_action_history_information\")\n",
    "mae_ecopg_high_discount_factor = POstratAC_eps(env=information_condition_instance, learning_rates=0.05, discount_factors= 0.99999)\n",
    "\n",
    "\n",
    "# Data storage\n",
    "\n",
    "# print(f\"\\nMode: {mode}\")\n",
    "\n",
    "avg_coop_time_pairs = run_simulation_across_conditions(\n",
    "    mae = mae_ecopg_high_discount_factor, \n",
    "    mode = \"only_action_history_information\",\n",
    "    num_samples = 7, \n",
    "    exclude_degraded_state_for_average_cooperation = False\n",
    ")\n",
    "\n",
    "results_summary = get_results_summary(avg_coop_time_pairs)\n",
    "\n",
    "print(results_summary)\n",
    "\n",
    "'''cares about preventing degradation despite not having infotrmation about the enviornmatalo state'''"
   ]
  },
  {
   "cell_type": "code",
   "execution_count": null,
   "id": "a19b7c61",
   "metadata": {},
   "outputs": [],
   "source": [
    "'''ecopgg with degradation and high discount factor, but no transition to degraded state'''\n",
    "\n",
    "\n",
    "ecopg = BaseEcologicalPublicGood(qc = 0.0)\n",
    "information_condition_instance = Information_Conditions(ecopg, mode=\"only_action_history_information\")\n",
    "mae_ecopg_high_discount_factor = POstratAC_eps(env=information_condition_instance, learning_rates=0.05, discount_factors= 0.99999)\n",
    "\n",
    "\n",
    "# Data storage\n",
    "\n",
    "# print(f\"\\nMode: {mode}\")\n",
    "\n",
    "avg_coop_time_pairs = run_simulation_across_conditions(\n",
    "    mae = mae_ecopg_high_discount_factor, \n",
    "    mode = \"only_action_history_information\",\n",
    "    num_samples = 7, \n",
    "    exclude_degraded_state_for_average_cooperation = False\n",
    ")\n",
    "\n",
    "results_summary = get_results_summary(avg_coop_time_pairs)\n",
    "\n",
    "print(results_summary)\n",
    "\n",
    "'''no cooperation. no environmantal reciorpcoty'''"
   ]
  },
  {
   "cell_type": "code",
   "execution_count": null,
   "id": "fb95dbae",
   "metadata": {},
   "outputs": [
    {
     "name": "stdout",
     "output_type": "stream",
     "text": [
      "(np.float64(0.384),   Classification  MedianTimetoReach  Percentage\n",
      "0    Cooperation               12.0         7.1\n",
      "1      Defection                5.5        64.3\n",
      "2          Mixed                4.5        28.6)\n"
     ]
    },
    {
     "data": {
      "text/plain": [
       "''"
      ]
     },
     "execution_count": 12,
     "metadata": {},
     "output_type": "execute_result"
    }
   ],
   "source": [
    "''' a very high discount factor (at least 1 - 10e-9) is needed for acheiving coop\"\"\n",
    " '''\n",
    "\n",
    "mae_memo1pd_high_discount_factor = POstratAC_eps(env=memo1pd, learning_rates=0.05, discount_factors= 1 - 10e-9)\n",
    "\n",
    "\n",
    "# Data storage\n",
    "\n",
    "# print(f\"\\nMode: {mode}\")\n",
    "\n",
    "avg_coop_time_pairs = run_simulation_across_conditions(\n",
    "    mae = mae_memo1pd_high_discount_factor, \n",
    "    mode = \"only_action_history_information\",\n",
    "    num_samples = 7, \n",
    "    exclude_degraded_state_for_average_cooperation = False\n",
    ")\n",
    "\n",
    "results_summary = get_results_summary(avg_coop_time_pairs)\n",
    "\n",
    "print(results_summary)\n",
    "\n",
    "\n",
    "''''''"
   ]
  },
  {
   "cell_type": "code",
   "execution_count": null,
   "id": "7a6a82a1",
   "metadata": {},
   "outputs": [
    {
     "name": "stdout",
     "output_type": "stream",
     "text": [
      "(np.float64(0.089),   Classification  MedianTimetoReach  Percentage\n",
      "0    Cooperation              323.0         3.6\n",
      "1      Defection              359.0        96.4)\n"
     ]
    }
   ],
   "source": [
    "'''When temptation is high and sucker's payoff worse, the discount factor needs to be very high (at least 1 - 10e-9) to acheive coop.'''\n",
    "\n",
    "\n",
    "f = ecopg.f[1]\n",
    "c = ecopg.c[1]\n",
    "r = f*c - c  #1\n",
    "t = f*c/2    #3\n",
    "s = f*c/2 - c  #-2\n",
    "p = 0.0     #0\n",
    "\n",
    "\n",
    "# socdi_x2 = SocialDilemma(R=1.0, T=1.2, S=-0.5, P=0.0)\n",
    "socdi_x2 = SocialDilemma(R=1.0, T= 2 , S=-0.5, P=0.0)\n",
    "\n",
    "memo1pd_x2 = HistoryEmbedded(socdi_x2, h = (1, 1, 1))\n",
    "\n",
    "mae_memo1pd_x2_high_discount_factor = POstratAC_eps(env=memo1pd_x2, learning_rates=0.05, discount_factors= 1 - 1e-7)\n",
    "\n",
    "\n",
    "# Data storage\n",
    "\n",
    "# print(f\"\\nMode: {mode}\")\n",
    "\n",
    "avg_coop_time_pairs = run_simulation_across_conditions(\n",
    "    mae = mae_memo1pd_x2_high_discount_factor, \n",
    "    mode = \"only_action_history_information\",\n",
    "    num_samples = 7, \n",
    "    exclude_degraded_state_for_average_cooperation = False\n",
    ")\n",
    "\n",
    "results_summary = get_results_summary(avg_coop_time_pairs)\n",
    "\n",
    "print(results_summary)\n",
    "\n"
   ]
  },
  {
   "cell_type": "code",
   "execution_count": null,
   "id": "1898ce83",
   "metadata": {},
   "outputs": [],
   "source": [
    "'''check the role of game payoff in this effevt'''"
   ]
  },
  {
   "cell_type": "code",
   "execution_count": null,
   "id": "a2887284",
   "metadata": {},
   "outputs": [],
   "source": [
    "\n"
   ]
  }
 ],
 "metadata": {
  "kernelspec": {
   "display_name": "Python 3",
   "language": "python",
   "name": "python3"
  },
  "language_info": {
   "codemirror_mode": {
    "name": "ipython",
    "version": 3
   },
   "file_extension": ".py",
   "mimetype": "text/x-python",
   "name": "python",
   "nbconvert_exporter": "python",
   "pygments_lexer": "ipython3",
   "version": "3.13.2"
  }
 },
 "nbformat": 4,
 "nbformat_minor": 5
}
