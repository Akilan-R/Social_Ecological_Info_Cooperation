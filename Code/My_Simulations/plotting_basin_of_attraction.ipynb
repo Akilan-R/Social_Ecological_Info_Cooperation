{
 "cells": [
  {
   "cell_type": "code",
   "execution_count": 6,
   "id": "55cd4692",
   "metadata": {},
   "outputs": [
    {
     "name": "stdout",
     "output_type": "stream",
     "text": [
      "d:\\Personal Projects\\Social_Ecological_Info_Cooperation\\Code\\My_Simulations\n"
     ]
    }
   ],
   "source": [
    "import os\n",
    "print(os.getcwd())\n",
    "import pandas as pd\n",
    "import numpy as np\n",
    "import json as json\n",
    "import seaborn as sns\n",
    "\n",
    "import matplotlib.pyplot as plt\n",
    "from matplotlib.lines import Line2D"
   ]
  },
  {
   "cell_type": "code",
   "execution_count": 2,
   "id": "7d9e674b",
   "metadata": {},
   "outputs": [],
   "source": [
    "from helper_functions import strategy_to_label\n",
    "from helper_functions import all_information_modes"
   ]
  },
  {
   "cell_type": "code",
   "execution_count": 3,
   "id": "13484df9",
   "metadata": {},
   "outputs": [
    {
     "ename": "TypeError",
     "evalue": "strategy_to_label() missing 1 required positional argument: 'mode'",
     "output_type": "error",
     "traceback": [
      "\u001b[31m---------------------------------------------------------------------------\u001b[39m",
      "\u001b[31mTypeError\u001b[39m                                 Traceback (most recent call last)",
      "\u001b[36mCell\u001b[39m\u001b[36m \u001b[39m\u001b[32mIn[3]\u001b[39m\u001b[32m, line 8\u001b[39m\n\u001b[32m      5\u001b[39m ALLD = [\u001b[32m0\u001b[39m,\u001b[32m0\u001b[39m,\u001b[32m0\u001b[39m,\u001b[32m0\u001b[39m]\n\u001b[32m      6\u001b[39m ReverseGT = [\u001b[32m0\u001b[39m,\u001b[32m0\u001b[39m,\u001b[32m0\u001b[39m,\u001b[32m1\u001b[39m]\n\u001b[32m----> \u001b[39m\u001b[32m8\u001b[39m \u001b[43mstrategy_to_label\u001b[49m\u001b[43m(\u001b[49m\u001b[43mnp\u001b[49m\u001b[43m.\u001b[49m\u001b[43marray\u001b[49m\u001b[43m(\u001b[49m\u001b[43m[\u001b[49m\u001b[32;43m0\u001b[39;49m\u001b[43m,\u001b[49m\u001b[32;43m0\u001b[39;49m\u001b[43m,\u001b[49m\u001b[32;43m0\u001b[39;49m\u001b[43m,\u001b[49m\u001b[32;43m0\u001b[39;49m\u001b[43m]\u001b[49m\u001b[43m)\u001b[49m\u001b[43m)\u001b[49m\n",
      "\u001b[31mTypeError\u001b[39m: strategy_to_label() missing 1 required positional argument: 'mode'"
     ]
    }
   ],
   "source": [
    "WSLS = [1,0,0,1]\n",
    "GT = [1,0,0,0]\n",
    "ALLC = [1,1,1,1]\n",
    "TFT = [1,0,1,0]\n",
    "ALLD = [0,0,0,0]\n",
    "ReverseGT = [0,0,0,1]\n",
    "\n",
    "strategy_to_label(np.array([0,0,0,0]))"
   ]
  },
  {
   "cell_type": "code",
   "execution_count": 34,
   "id": "605ba1af",
   "metadata": {},
   "outputs": [
    {
     "data": {
      "application/vnd.microsoft.datawrangler.viewer.v0+json": {
       "columns": [
        {
         "name": "final_point_label_agent_1",
         "rawType": "object",
         "type": "string"
        },
        {
         "name": "frequency",
         "rawType": "float64",
         "type": "float"
        }
       ],
       "ref": "60c46229-3261-4628-a417-0598b5adbfb4",
       "rows": [
        [
         "ALL C",
         "87.0"
        ],
        [
         "ALL D",
         "0.2"
        ],
        [
         "Inv. GT",
         "3.0"
        ],
        [
         "WSLS",
         "2.4"
        ],
        [
         "other",
         "7.4"
        ]
       ],
       "shape": {
        "columns": 1,
        "rows": 5
       }
      },
      "text/plain": [
       "final_point_label_agent_1\n",
       "ALL C      87.0\n",
       "ALL D       0.2\n",
       "Inv. GT     3.0\n",
       "WSLS        2.4\n",
       "other       7.4\n",
       "Name: frequency, dtype: float64"
      ]
     },
     "execution_count": 34,
     "metadata": {},
     "output_type": "execute_result"
    }
   ],
   "source": [
    "df = pd.read_excel(\"../Data/Basin_of_Attraction/complete/complete_dis__0.995_m_6.5_unique_strategies_and_frequency.xlsx\")\n",
    "\n",
    "\n",
    "def convert_final_point_to_numpy_array(final_point, number_of_states):\n",
    "\n",
    "    flat = np.fromstring(final_point.replace('[', ' ').replace(']', ' '), sep=' ', dtype=float)\n",
    "    array = flat.reshape(2, number_of_states)\n",
    "    return array\n",
    "\n",
    "\n",
    "\n",
    "\n",
    "#next, we need to label the final points\n",
    "\n",
    "\n",
    "\n",
    "def process_and_parase_basin_of_attraction_data(df):\n",
    "    #first, we need to convert the final point from string to numpy array\n",
    "    df[\"final_point\"] = df[\"final_point\"].apply(lambda x: convert_final_point_to_numpy_array(x, 4))\n",
    "    \n",
    "    #next, we need to label the final points\n",
    "    df[\"final_point_label_agent_1\"] = df[\"final_point\"].apply(lambda x: strategy_to_label(x[0,:], 'complete'))\n",
    "\n",
    "    df = df.groupby(\"final_point_label_agent_1\")[\"frequency\"].sum()\n",
    "\n",
    "    return df\n",
    "\n",
    "df = process_and_parase_basin_of_attraction_data(df)\n",
    "df\n"
   ]
  },
  {
   "cell_type": "code",
   "execution_count": 43,
   "id": "384b2cb3",
   "metadata": {},
   "outputs": [
    {
     "data": {
      "application/vnd.microsoft.datawrangler.viewer.v0+json": {
       "columns": [
        {
         "name": "discount_factor",
         "rawType": "float64",
         "type": "float"
        },
        {
         "name": "ALL C",
         "rawType": "float64",
         "type": "float"
        },
        {
         "name": "ALL D",
         "rawType": "float64",
         "type": "float"
        },
        {
         "name": "Inv. GT",
         "rawType": "float64",
         "type": "float"
        },
        {
         "name": "WSLS",
         "rawType": "float64",
         "type": "float"
        }
       ],
       "ref": "e5cc0e1e-c755-49a0-b19b-caba8f6134df",
       "rows": [
        [
         "0.955",
         "0.6000000000000001",
         "72.60000000000001",
         "0.0",
         "13.799999999999999"
        ],
        [
         "0.965",
         "32.0",
         "56.800000000000004",
         "0.0",
         "5.8"
        ],
        [
         "0.975",
         "46.6",
         "38.4",
         "0.2",
         "6.6"
        ],
        [
         "0.985",
         "66.6",
         "16.4",
         "4.0",
         "4.4"
        ],
        [
         "0.995",
         "87.0",
         "0.2",
         "3.0",
         "2.4"
        ]
       ],
       "shape": {
        "columns": 4,
        "rows": 5
       }
      },
      "text/html": [
       "<div>\n",
       "<style scoped>\n",
       "    .dataframe tbody tr th:only-of-type {\n",
       "        vertical-align: middle;\n",
       "    }\n",
       "\n",
       "    .dataframe tbody tr th {\n",
       "        vertical-align: top;\n",
       "    }\n",
       "\n",
       "    .dataframe thead th {\n",
       "        text-align: right;\n",
       "    }\n",
       "</style>\n",
       "<table border=\"1\" class=\"dataframe\">\n",
       "  <thead>\n",
       "    <tr style=\"text-align: right;\">\n",
       "      <th>strategy</th>\n",
       "      <th>ALL C</th>\n",
       "      <th>ALL D</th>\n",
       "      <th>Inv. GT</th>\n",
       "      <th>WSLS</th>\n",
       "    </tr>\n",
       "    <tr>\n",
       "      <th>discount_factor</th>\n",
       "      <th></th>\n",
       "      <th></th>\n",
       "      <th></th>\n",
       "      <th></th>\n",
       "    </tr>\n",
       "  </thead>\n",
       "  <tbody>\n",
       "    <tr>\n",
       "      <th>0.955</th>\n",
       "      <td>0.6</td>\n",
       "      <td>72.6</td>\n",
       "      <td>0.0</td>\n",
       "      <td>13.8</td>\n",
       "    </tr>\n",
       "    <tr>\n",
       "      <th>0.965</th>\n",
       "      <td>32.0</td>\n",
       "      <td>56.8</td>\n",
       "      <td>0.0</td>\n",
       "      <td>5.8</td>\n",
       "    </tr>\n",
       "    <tr>\n",
       "      <th>0.975</th>\n",
       "      <td>46.6</td>\n",
       "      <td>38.4</td>\n",
       "      <td>0.2</td>\n",
       "      <td>6.6</td>\n",
       "    </tr>\n",
       "    <tr>\n",
       "      <th>0.985</th>\n",
       "      <td>66.6</td>\n",
       "      <td>16.4</td>\n",
       "      <td>4.0</td>\n",
       "      <td>4.4</td>\n",
       "    </tr>\n",
       "    <tr>\n",
       "      <th>0.995</th>\n",
       "      <td>87.0</td>\n",
       "      <td>0.2</td>\n",
       "      <td>3.0</td>\n",
       "      <td>2.4</td>\n",
       "    </tr>\n",
       "  </tbody>\n",
       "</table>\n",
       "</div>"
      ],
      "text/plain": [
       "strategy         ALL C  ALL D  Inv. GT  WSLS\n",
       "discount_factor                             \n",
       "0.955              0.6   72.6      0.0  13.8\n",
       "0.965             32.0   56.8      0.0   5.8\n",
       "0.975             46.6   38.4      0.2   6.6\n",
       "0.985             66.6   16.4      4.0   4.4\n",
       "0.995             87.0    0.2      3.0   2.4"
      ]
     },
     "execution_count": 43,
     "metadata": {},
     "output_type": "execute_result"
    }
   ],
   "source": [
    "import numpy as np\n",
    "import pandas as pd\n",
    "\n",
    "discount_factors = [0.955, 0.965, 0.975, 0.985, 0.995]\n",
    "strategies = ['ALL C', 'WSLS', 'Inv. GT', 'ALL D']\n",
    "\n",
    "rng = np.random.default_rng(42)\n",
    "\n",
    "rows = []\n",
    "\n",
    "\n",
    "list_for_dicts = [] \n",
    "\n",
    "\n",
    "for d in discount_factors:\n",
    "\n",
    "    df = pd.read_excel(f\"../Data/Basin_of_Attraction/complete/complete_dis__{d}_m_6.5_unique_strategies_and_frequency.xlsx\")\n",
    "    df = process_and_parase_basin_of_attraction_data(df)\n",
    "\n",
    "    for s in strategies:\n",
    "        if s in df.index:\n",
    "            freq = df[s]\n",
    "        else:\n",
    "            freq = 0\n",
    "        \n",
    "        list_for_dicts.append({\"discount_factor\": d, \"strategy\": s, \"frequency\": freq})\n",
    "\n",
    "df_for_ploting = pd.DataFrame(list_for_dicts)\n",
    "\n",
    "df_for_ploting\n",
    "\n",
    "df_pivot = df_for_ploting.pivot_table(index=\"discount_factor\",\n",
    "            columns=\"strategy\",\n",
    "            values=\"frequency\")\n",
    "\n",
    "df_pivot"
   ]
  },
  {
   "cell_type": "code",
   "execution_count": 45,
   "id": "305907df",
   "metadata": {},
   "outputs": [
    {
     "name": "stdout",
     "output_type": "stream",
     "text": [
      "strategy         ALL C  ALL D  Inv. GT  WSLS\n",
      "discount_factor                             \n",
      "0.955              0.6   72.6      0.0  13.8\n",
      "0.965             32.0   56.8      0.0   5.8\n",
      "0.975             46.6   38.4      0.2   6.6\n",
      "0.985             66.6   16.4      4.0   4.4\n",
      "0.995             87.0    0.2      3.0   2.4\n"
     ]
    },
    {
     "ename": "KeyError",
     "evalue": "'ALLC'",
     "output_type": "error",
     "traceback": [
      "\u001b[31m---------------------------------------------------------------------------\u001b[39m",
      "\u001b[31mKeyError\u001b[39m                                  Traceback (most recent call last)",
      "\u001b[36mFile \u001b[39m\u001b[32md:\\Program_Files_D\\Python\\Lib\\site-packages\\pandas\\core\\indexes\\base.py:3812\u001b[39m, in \u001b[36mIndex.get_loc\u001b[39m\u001b[34m(self, key)\u001b[39m\n\u001b[32m   3811\u001b[39m \u001b[38;5;28;01mtry\u001b[39;00m:\n\u001b[32m-> \u001b[39m\u001b[32m3812\u001b[39m     \u001b[38;5;28;01mreturn\u001b[39;00m \u001b[38;5;28;43mself\u001b[39;49m\u001b[43m.\u001b[49m\u001b[43m_engine\u001b[49m\u001b[43m.\u001b[49m\u001b[43mget_loc\u001b[49m\u001b[43m(\u001b[49m\u001b[43mcasted_key\u001b[49m\u001b[43m)\u001b[49m\n\u001b[32m   3813\u001b[39m \u001b[38;5;28;01mexcept\u001b[39;00m \u001b[38;5;167;01mKeyError\u001b[39;00m \u001b[38;5;28;01mas\u001b[39;00m err:\n",
      "\u001b[36mFile \u001b[39m\u001b[32mpandas/_libs/index.pyx:167\u001b[39m, in \u001b[36mpandas._libs.index.IndexEngine.get_loc\u001b[39m\u001b[34m()\u001b[39m\n",
      "\u001b[36mFile \u001b[39m\u001b[32mpandas/_libs/index.pyx:196\u001b[39m, in \u001b[36mpandas._libs.index.IndexEngine.get_loc\u001b[39m\u001b[34m()\u001b[39m\n",
      "\u001b[36mFile \u001b[39m\u001b[32mpandas/_libs/hashtable_class_helper.pxi:7088\u001b[39m, in \u001b[36mpandas._libs.hashtable.PyObjectHashTable.get_item\u001b[39m\u001b[34m()\u001b[39m\n",
      "\u001b[36mFile \u001b[39m\u001b[32mpandas/_libs/hashtable_class_helper.pxi:7096\u001b[39m, in \u001b[36mpandas._libs.hashtable.PyObjectHashTable.get_item\u001b[39m\u001b[34m()\u001b[39m\n",
      "\u001b[31mKeyError\u001b[39m: 'ALLC'",
      "\nThe above exception was the direct cause of the following exception:\n",
      "\u001b[31mKeyError\u001b[39m                                  Traceback (most recent call last)",
      "\u001b[36mCell\u001b[39m\u001b[36m \u001b[39m\u001b[32mIn[45]\u001b[39m\u001b[32m, line 68\u001b[39m\n\u001b[32m     64\u001b[39m bar_width = \u001b[32m0.7\u001b[39m\n\u001b[32m     66\u001b[39m \u001b[38;5;28;01mfor\u001b[39;00m s \u001b[38;5;129;01min\u001b[39;00m strategies:\n\u001b[32m     67\u001b[39m     ax.bar(\n\u001b[32m---> \u001b[39m\u001b[32m68\u001b[39m         x, \u001b[43mpivot\u001b[49m\u001b[43m[\u001b[49m\u001b[43ms\u001b[49m\u001b[43m]\u001b[49m.values, bottom=bottom,\n\u001b[32m     69\u001b[39m         label=s, color=strategy_colors_barplot[s],\n\u001b[32m     70\u001b[39m         edgecolor=\u001b[33m\"\u001b[39m\u001b[33mblack\u001b[39m\u001b[33m\"\u001b[39m, linewidth=\u001b[32m0.5\u001b[39m,\n\u001b[32m     71\u001b[39m         width=bar_width\n\u001b[32m     72\u001b[39m     )\n\u001b[32m     73\u001b[39m     bottom += pivot[s].values\n\u001b[32m     75\u001b[39m \u001b[38;5;66;03m# X axis\u001b[39;00m\n",
      "\u001b[36mFile \u001b[39m\u001b[32md:\\Program_Files_D\\Python\\Lib\\site-packages\\pandas\\core\\frame.py:4107\u001b[39m, in \u001b[36mDataFrame.__getitem__\u001b[39m\u001b[34m(self, key)\u001b[39m\n\u001b[32m   4105\u001b[39m \u001b[38;5;28;01mif\u001b[39;00m \u001b[38;5;28mself\u001b[39m.columns.nlevels > \u001b[32m1\u001b[39m:\n\u001b[32m   4106\u001b[39m     \u001b[38;5;28;01mreturn\u001b[39;00m \u001b[38;5;28mself\u001b[39m._getitem_multilevel(key)\n\u001b[32m-> \u001b[39m\u001b[32m4107\u001b[39m indexer = \u001b[38;5;28;43mself\u001b[39;49m\u001b[43m.\u001b[49m\u001b[43mcolumns\u001b[49m\u001b[43m.\u001b[49m\u001b[43mget_loc\u001b[49m\u001b[43m(\u001b[49m\u001b[43mkey\u001b[49m\u001b[43m)\u001b[49m\n\u001b[32m   4108\u001b[39m \u001b[38;5;28;01mif\u001b[39;00m is_integer(indexer):\n\u001b[32m   4109\u001b[39m     indexer = [indexer]\n",
      "\u001b[36mFile \u001b[39m\u001b[32md:\\Program_Files_D\\Python\\Lib\\site-packages\\pandas\\core\\indexes\\base.py:3819\u001b[39m, in \u001b[36mIndex.get_loc\u001b[39m\u001b[34m(self, key)\u001b[39m\n\u001b[32m   3814\u001b[39m     \u001b[38;5;28;01mif\u001b[39;00m \u001b[38;5;28misinstance\u001b[39m(casted_key, \u001b[38;5;28mslice\u001b[39m) \u001b[38;5;129;01mor\u001b[39;00m (\n\u001b[32m   3815\u001b[39m         \u001b[38;5;28misinstance\u001b[39m(casted_key, abc.Iterable)\n\u001b[32m   3816\u001b[39m         \u001b[38;5;129;01mand\u001b[39;00m \u001b[38;5;28many\u001b[39m(\u001b[38;5;28misinstance\u001b[39m(x, \u001b[38;5;28mslice\u001b[39m) \u001b[38;5;28;01mfor\u001b[39;00m x \u001b[38;5;129;01min\u001b[39;00m casted_key)\n\u001b[32m   3817\u001b[39m     ):\n\u001b[32m   3818\u001b[39m         \u001b[38;5;28;01mraise\u001b[39;00m InvalidIndexError(key)\n\u001b[32m-> \u001b[39m\u001b[32m3819\u001b[39m     \u001b[38;5;28;01mraise\u001b[39;00m \u001b[38;5;167;01mKeyError\u001b[39;00m(key) \u001b[38;5;28;01mfrom\u001b[39;00m\u001b[38;5;250m \u001b[39m\u001b[34;01merr\u001b[39;00m\n\u001b[32m   3820\u001b[39m \u001b[38;5;28;01mexcept\u001b[39;00m \u001b[38;5;167;01mTypeError\u001b[39;00m:\n\u001b[32m   3821\u001b[39m     \u001b[38;5;66;03m# If we have a listlike key, _check_indexing_error will raise\u001b[39;00m\n\u001b[32m   3822\u001b[39m     \u001b[38;5;66;03m#  InvalidIndexError. Otherwise we fall through and re-raise\u001b[39;00m\n\u001b[32m   3823\u001b[39m     \u001b[38;5;66;03m#  the TypeError.\u001b[39;00m\n\u001b[32m   3824\u001b[39m     \u001b[38;5;28mself\u001b[39m._check_indexing_error(key)\n",
      "\u001b[31mKeyError\u001b[39m: 'ALLC'"
     ]
    },
    {
     "data": {
      "image/png": "[encoded data removed]",
      "text/plain": [
       "<Figure size 1000x450 with 1 Axes>"
      ]
     },
     "metadata": {},
     "output_type": "display_data"
    }
   ],
   "source": [
    "import numpy as np\n",
    "import pandas as pd\n",
    "import matplotlib.pyplot as plt\n",
    "import seaborn as sns\n",
    "\n",
    "# # --------------------------\n",
    "# # 1. Generate random dataset\n",
    "# # --------------------------\n",
    "# discount_factors = [0.955, 0.965, 0.975, 0.985, 0.995]\n",
    "# strategies = ['ALLC', 'WSLS', 'Inv. GT', 'ALLD']\n",
    "\n",
    "# rng = np.random.default_rng(42)\n",
    "# rows = []\n",
    "# for d in discount_factors:\n",
    "#     for s in strategies:\n",
    "#         abundance = rng.integers(5, 40)\n",
    "#         rows.append({\"discount_factor\": d, \"strategy\": s, \"abundance\": abundance})\n",
    "# df = pd.DataFrame(rows)\n",
    "\n",
    "# df = df_for_ploting\n",
    "\n",
    "# pivot = (df.pivot_table(index=\"discount_factor\",\n",
    "#                         columns=\"strategy\",\n",
    "#                         values=\"abundance\",\n",
    "#                         aggfunc=\"sum\")\n",
    "#            .reindex(columns=strategies)\n",
    "#            .fillna(0))\n",
    "\n",
    "\n",
    "pivot = df_pivot\n",
    "\n",
    "print(pivot)\n",
    "\n",
    "# --------------------------\n",
    "# 2. Define palette\n",
    "# --------------------------\n",
    "strategy_colors_barplot = {\n",
    "    'ALL C':   '#6ad46d',   # bright green\n",
    "    'WSLS':   '#38c172',   # medium green\n",
    "    'Inv. GT':'#e66d6d',   # warm red\n",
    "    'ALL D':   '#ff4d4d',   # strong red\n",
    "}\n",
    "\n",
    "# --------------------------\n",
    "# 3. Thesis-style plot\n",
    "# --------------------------\n",
    "sns.set_theme(context=\"talk\", style=\"whitegrid\")\n",
    "plt.rcParams.update({\n",
    "    \"axes.facecolor\": \"white\",\n",
    "    \"figure.facecolor\": \"white\",\n",
    "    \"axes.edgecolor\":  \"black\",\n",
    "    \"grid.color\":      \"#d0d0d0\",\n",
    "    \"grid.linestyle\":  \"--\",\n",
    "    \"grid.linewidth\":  0.6,\n",
    "    \"xtick.color\":     \"black\",\n",
    "    \"ytick.color\":     \"black\",\n",
    "    \"text.color\":      \"black\",\n",
    "    \"axes.labelcolor\": \"black\",\n",
    "})\n",
    "\n",
    "fig, ax = plt.subplots(figsize=(10, 4.5))\n",
    "x = np.arange(len(pivot.index))\n",
    "bottom = np.zeros(len(pivot))\n",
    "bar_width = 0.7\n",
    "\n",
    "for s in strategies:\n",
    "    ax.bar(\n",
    "        x, pivot[s].values, bottom=bottom,\n",
    "        label=s, color=strategy_colors_barplot[s],\n",
    "        edgecolor=\"black\", linewidth=0.5,\n",
    "        width=bar_width\n",
    "    )\n",
    "    bottom += pivot[s].values\n",
    "\n",
    "# X axis\n",
    "ax.set_xticks(x)\n",
    "ax.set_xticklabels([f\"{d:.3f}\" for d in pivot.index], rotation=0)\n",
    "ax.set_xlabel(\"Discount factor\")\n",
    "ax.set_ylabel(\"Abundance (%)\")\n",
    "\n",
    "# Fix Y axis 0–100\n",
    "ax.set_ylim(0, 100)\n",
    "ax.set_yticks(np.arange(0, 101, 20))\n",
    "\n",
    "# Legend outside (clean, white background)\n",
    "leg = ax.legend(\n",
    "    title=\"Strategy\", loc=\"center left\", bbox_to_anchor=(1.02, 0.5),\n",
    "    frameon=True, facecolor=\"white\", edgecolor=\"black\"\n",
    ")\n",
    "leg.get_title().set_color(\"black\")\n",
    "\n",
    "sns.despine()   # remove top/right spines\n",
    "plt.tight_layout()\n",
    "plt.title(\"Only Social Information\")\n",
    "plt.show()\n"
   ]
  }
 ],
 "metadata": {
  "kernelspec": {
   "display_name": "Python 3",
   "language": "python",
   "name": "python3"
  },
  "language_info": {
   "codemirror_mode": {
    "name": "ipython",
    "version": 3
   },
   "file_extension": ".py",
   "mimetype": "text/x-python",
   "name": "python",
   "nbconvert_exporter": "python",
   "pygments_lexer": "ipython3",
   "version": "3.13.7"
  }
 },
 "nbformat": 4,
 "nbformat_minor": 5
}
