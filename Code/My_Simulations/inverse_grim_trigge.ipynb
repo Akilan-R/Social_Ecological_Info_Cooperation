{
 "cells": [
  {
   "cell_type": "code",
   "execution_count": 2,
   "id": "095b105f",
   "metadata": {},
   "outputs": [],
   "source": [
    "from imports import *\n",
    "from information_conditions import Information_Conditions\n",
    "from base_ecopg import *\n",
    "from helper_functions import *\n",
    "from simulation_and_results_functions import *"
   ]
  },
  {
   "cell_type": "code",
   "execution_count": 3,
   "id": "38583a0e",
   "metadata": {},
   "outputs": [],
   "source": [
    "np.set_printoptions(precision=3, suppress=True, linewidth=200)\n"
   ]
  },
  {
   "cell_type": "code",
   "execution_count": 4,
   "id": "25b957bc",
   "metadata": {},
   "outputs": [],
   "source": [
    "def add_degraded_state_policies_complete_info(strategy):\n",
    "        \n",
    "        strategy_propserous_and_degraded_state = strategy.copy()\n",
    "\n",
    "        for i in [0, 2, 4, 6]:\n",
    "            x = np.random.rand()\n",
    "            strategy_propserous_and_degraded_state.insert(i, x)\n",
    "        \n",
    "        return strategy_propserous_and_degraded_state\n",
    "\n",
    "\n",
    "def add_degraded_state_policies_ecological_info(strategy):\n",
    "        \n",
    "        strategy_propserous_and_degraded_state = strategy.copy()\n",
    "        x = np.random.rand()\n",
    "        strategy_propserous_and_degraded_state.insert(0, x)\n",
    "        \n",
    "        return strategy_propserous_and_degraded_state\n",
    "\n"
   ]
  },
  {
   "cell_type": "code",
   "execution_count": 5,
   "id": "52af6f95",
   "metadata": {},
   "outputs": [],
   "source": [
    "def create_policy_from_strategy(agent_1_strategy, agent_2_strategy):\n",
    "\n",
    "\n",
    "    agent_1_strategy = [[x, 1-x] for x in agent_1_strategy]\n",
    "    agent_2_strategy = [[x, 1-x] for x in agent_2_strategy]\n",
    "\n",
    "    policy = np.array([agent_1_strategy, agent_2_strategy])\n",
    "\n",
    "    return policy\n",
    "\n",
    "\n",
    "def epsilon_noise_for_strategy(determinstic_strategy, epsilon):\n",
    "    #to avoid pure determinstic strategies, we remove e from 0  \n",
    "    strategy_with_epsilon = [x + epsilon if x == 0 else x - epsilon if x == 1 else x for x in determinstic_strategy]\n",
    "    return strategy_with_epsilon\n",
    "\n",
    "\n",
    "\n",
    "def create_policy_with_noise_from_deterministic_strategy(agent_1_strategy, agent_2_strategy, epsilon):\n",
    "\n",
    "    \n",
    "    determinstic_policy = create_policy_from_strategy(agent_1_strategy, agent_2_strategy)\n",
    "    \n",
    "    \n",
    "    agent_1_strategy_with_noise = epsilon_noise_for_strategy(agent_1_strategy, epsilon)\n",
    "    agent_2_strategy_with_noise = epsilon_noise_for_strategy(agent_2_strategy, epsilon)\n",
    "\n",
    "    noisy_policy = create_policy_from_strategy(agent_1_strategy_with_noise, agent_2_strategy_with_noise)\n",
    "\n",
    "    return noisy_policy, determinstic_policy\n"
   ]
  },
  {
   "cell_type": "code",
   "execution_count": 6,
   "id": "e4cd5c41",
   "metadata": {},
   "outputs": [
    {
     "name": "stdout",
     "output_type": "stream",
     "text": [
      "[0.029 0.005 0.055 0.    0.055 0.    0.851 0.005]\n",
      "['c,c,g|', 'c,c,p|', 'c,d,g|', 'c,d,p|', 'd,c,g|', 'd,c,p|', 'd,d,g|', 'd,d,p|']\n"
     ]
    }
   ],
   "source": [
    "strat = [0, 0, 0, 1]\n",
    "strat = add_degraded_state_policies_complete_info(strat)\n",
    "policy = create_policy_from_strategy(strat, strat)\n",
    "mae = create_mae_ecopg_for_given_mode_POstratAC_expanded(mode = 'complete', discount_factor=0.99)\n",
    "print(np.round(mae.Ps(policy),3))\n",
    "# print(mae.obsdist(policy))\n",
    "\n",
    "print(mae.env.Oset[0])\n"
   ]
  },
  {
   "cell_type": "code",
   "execution_count": 7,
   "id": "9ccbbd27",
   "metadata": {},
   "outputs": [
    {
     "name": "stdout",
     "output_type": "stream",
     "text": [
      "Information_ConditionsEcologicalPublicGood_2_1.2_5_-6_0.02_1e-04_NoDegChoi_h(1, 1, 1)__jPOstratAC_PartObs_[0.05 0.05]_[0.99 0.99]_[1 1]preFalse\n"
     ]
    }
   ],
   "source": [
    "print(mae.id())"
   ]
  }
 ],
 "metadata": {
  "kernelspec": {
   "display_name": "Python 3",
   "language": "python",
   "name": "python3"
  },
  "language_info": {
   "codemirror_mode": {
    "name": "ipython",
    "version": 3
   },
   "file_extension": ".py",
   "mimetype": "text/x-python",
   "name": "python",
   "nbconvert_exporter": "python",
   "pygments_lexer": "ipython3",
   "version": "3.13.7"
  }
 },
 "nbformat": 4,
 "nbformat_minor": 5
}
