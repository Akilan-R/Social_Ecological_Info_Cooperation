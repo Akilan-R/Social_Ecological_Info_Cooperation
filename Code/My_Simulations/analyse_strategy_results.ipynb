{
 "cells": [
  {
   "cell_type": "code",
   "execution_count": 1,
   "id": "11570acb",
   "metadata": {},
   "outputs": [],
   "source": [
    "from imports import *\n",
    "from information_conditions import Information_Conditions\n",
    "from base_ecopg import BaseEcologicalPublicGood\n",
    "from helper_functions import *\n",
    "from simulation_and_results_functions import *"
   ]
  },
  {
   "cell_type": "code",
   "execution_count": 2,
   "id": "da61b2bd",
   "metadata": {},
   "outputs": [],
   "source": [
    "df_for_each_mode = {}\n",
    "for mode in all_information_modes:\n",
    "    filename = f\"{mode}_unique_strategies_and_frequency.xlsx\"\n",
    "    filepath = os.path.join(\"..\", \"..\", \"..\", filename)\n",
    "    df_for_each_mode[mode] = pd.read_excel(filepath)"
   ]
  },
  {
   "cell_type": "code",
   "execution_count": 4,
   "id": "a290a4c7",
   "metadata": {},
   "outputs": [
    {
     "name": "stdout",
     "output_type": "stream",
     "text": [
      "{'only_action_history_information': np.float64(3.0), 'only_state_information': np.int64(66), 'both_state_and_action_information': np.float64(64.9), 'no_information': np.int64(0)}\n"
     ]
    }
   ],
   "source": [
    "def get_basin_of_attraction_for_cooperation(df):\n",
    "    high_cooperation = df[df['avg_coop'] > 0.95]\n",
    "    total_frequency = np.round(high_cooperation['frequency'].sum(),2)\n",
    "    return total_frequency\n",
    "\n",
    "#get dictionary with basin of attraction for cooperation for each information condition\n",
    "size_of_basin_of_attraction_each_mode = {}\n",
    "for mode, df in df_for_each_mode.items():\n",
    "    size_of_basin_of_attraction_each_mode[mode] = get_basin_of_attraction_for_cooperation(df)\n",
    "\n",
    "print(size_of_basin_of_attraction_each_mode)\n"
   ]
  },
  {
   "cell_type": "code",
   "execution_count": null,
   "id": "6ff3eaa2",
   "metadata": {},
   "outputs": [
    {
     "ename": "AttributeError",
     "evalue": "'numpy.ndarray' object has no attribute 'replace'",
     "output_type": "error",
     "traceback": [
      "\u001b[31m---------------------------------------------------------------------------\u001b[39m",
      "\u001b[31mAttributeError\u001b[39m                            Traceback (most recent call last)",
      "\u001b[36mCell\u001b[39m\u001b[36m \u001b[39m\u001b[32mIn[75]\u001b[39m\u001b[32m, line 17\u001b[39m\n\u001b[32m     14\u001b[39m     number_of_states = Information_Conditions(BaseEcologicalPublicGood(), mode).Q\n\u001b[32m     16\u001b[39m     \u001b[38;5;66;03m# df[\"final_point\"] = df[\"final_point\"].apply(lambda x: convert_final_point_to_numpy_array(x, number_of_states))\u001b[39;00m\n\u001b[32m---> \u001b[39m\u001b[32m17\u001b[39m     df[\u001b[33m\"\u001b[39m\u001b[33mavg_obsdist\u001b[39m\u001b[33m\"\u001b[39m] = \u001b[43mdf\u001b[49m\u001b[43m[\u001b[49m\u001b[33;43m\"\u001b[39;49m\u001b[33;43mavg_obsdist\u001b[39;49m\u001b[33;43m\"\u001b[39;49m\u001b[43m]\u001b[49m\u001b[43m.\u001b[49m\u001b[43mapply\u001b[49m\u001b[43m(\u001b[49m\u001b[38;5;28;43;01mlambda\u001b[39;49;00m\u001b[43m \u001b[49m\u001b[43mx\u001b[49m\u001b[43m:\u001b[49m\u001b[43m \u001b[49m\u001b[43mconvert_obsdist_to_numpy_array\u001b[49m\u001b[43m(\u001b[49m\u001b[43mx\u001b[49m\u001b[43m,\u001b[49m\u001b[43m \u001b[49m\u001b[43mnumber_of_states\u001b[49m\u001b[43m)\u001b[49m\u001b[43m)\u001b[49m\n\u001b[32m     20\u001b[39m \u001b[38;5;28mprint\u001b[39m(df_for_each_mode[\u001b[33m\"\u001b[39m\u001b[33mno_information\u001b[39m\u001b[33m\"\u001b[39m].head())\n",
      "\u001b[36mFile \u001b[39m\u001b[32md:\\Program_Files_D\\Python\\Lib\\site-packages\\pandas\\core\\series.py:4924\u001b[39m, in \u001b[36mSeries.apply\u001b[39m\u001b[34m(self, func, convert_dtype, args, by_row, **kwargs)\u001b[39m\n\u001b[32m   4789\u001b[39m \u001b[38;5;28;01mdef\u001b[39;00m\u001b[38;5;250m \u001b[39m\u001b[34mapply\u001b[39m(\n\u001b[32m   4790\u001b[39m     \u001b[38;5;28mself\u001b[39m,\n\u001b[32m   4791\u001b[39m     func: AggFuncType,\n\u001b[32m   (...)\u001b[39m\u001b[32m   4796\u001b[39m     **kwargs,\n\u001b[32m   4797\u001b[39m ) -> DataFrame | Series:\n\u001b[32m   4798\u001b[39m \u001b[38;5;250m    \u001b[39m\u001b[33;03m\"\"\"\u001b[39;00m\n\u001b[32m   4799\u001b[39m \u001b[33;03m    Invoke function on values of Series.\u001b[39;00m\n\u001b[32m   4800\u001b[39m \n\u001b[32m   (...)\u001b[39m\u001b[32m   4915\u001b[39m \u001b[33;03m    dtype: float64\u001b[39;00m\n\u001b[32m   4916\u001b[39m \u001b[33;03m    \"\"\"\u001b[39;00m\n\u001b[32m   4917\u001b[39m     \u001b[38;5;28;01mreturn\u001b[39;00m \u001b[43mSeriesApply\u001b[49m\u001b[43m(\u001b[49m\n\u001b[32m   4918\u001b[39m \u001b[43m        \u001b[49m\u001b[38;5;28;43mself\u001b[39;49m\u001b[43m,\u001b[49m\n\u001b[32m   4919\u001b[39m \u001b[43m        \u001b[49m\u001b[43mfunc\u001b[49m\u001b[43m,\u001b[49m\n\u001b[32m   4920\u001b[39m \u001b[43m        \u001b[49m\u001b[43mconvert_dtype\u001b[49m\u001b[43m=\u001b[49m\u001b[43mconvert_dtype\u001b[49m\u001b[43m,\u001b[49m\n\u001b[32m   4921\u001b[39m \u001b[43m        \u001b[49m\u001b[43mby_row\u001b[49m\u001b[43m=\u001b[49m\u001b[43mby_row\u001b[49m\u001b[43m,\u001b[49m\n\u001b[32m   4922\u001b[39m \u001b[43m        \u001b[49m\u001b[43margs\u001b[49m\u001b[43m=\u001b[49m\u001b[43margs\u001b[49m\u001b[43m,\u001b[49m\n\u001b[32m   4923\u001b[39m \u001b[43m        \u001b[49m\u001b[43mkwargs\u001b[49m\u001b[43m=\u001b[49m\u001b[43mkwargs\u001b[49m\u001b[43m,\u001b[49m\n\u001b[32m-> \u001b[39m\u001b[32m4924\u001b[39m \u001b[43m    \u001b[49m\u001b[43m)\u001b[49m\u001b[43m.\u001b[49m\u001b[43mapply\u001b[49m\u001b[43m(\u001b[49m\u001b[43m)\u001b[49m\n",
      "\u001b[36mFile \u001b[39m\u001b[32md:\\Program_Files_D\\Python\\Lib\\site-packages\\pandas\\core\\apply.py:1427\u001b[39m, in \u001b[36mSeriesApply.apply\u001b[39m\u001b[34m(self)\u001b[39m\n\u001b[32m   1424\u001b[39m     \u001b[38;5;28;01mreturn\u001b[39;00m \u001b[38;5;28mself\u001b[39m.apply_compat()\n\u001b[32m   1426\u001b[39m \u001b[38;5;66;03m# self.func is Callable\u001b[39;00m\n\u001b[32m-> \u001b[39m\u001b[32m1427\u001b[39m \u001b[38;5;28;01mreturn\u001b[39;00m \u001b[38;5;28;43mself\u001b[39;49m\u001b[43m.\u001b[49m\u001b[43mapply_standard\u001b[49m\u001b[43m(\u001b[49m\u001b[43m)\u001b[49m\n",
      "\u001b[36mFile \u001b[39m\u001b[32md:\\Program_Files_D\\Python\\Lib\\site-packages\\pandas\\core\\apply.py:1507\u001b[39m, in \u001b[36mSeriesApply.apply_standard\u001b[39m\u001b[34m(self)\u001b[39m\n\u001b[32m   1501\u001b[39m \u001b[38;5;66;03m# row-wise access\u001b[39;00m\n\u001b[32m   1502\u001b[39m \u001b[38;5;66;03m# apply doesn't have a `na_action` keyword and for backward compat reasons\u001b[39;00m\n\u001b[32m   1503\u001b[39m \u001b[38;5;66;03m# we need to give `na_action=\"ignore\"` for categorical data.\u001b[39;00m\n\u001b[32m   1504\u001b[39m \u001b[38;5;66;03m# TODO: remove the `na_action=\"ignore\"` when that default has been changed in\u001b[39;00m\n\u001b[32m   1505\u001b[39m \u001b[38;5;66;03m#  Categorical (GH51645).\u001b[39;00m\n\u001b[32m   1506\u001b[39m action = \u001b[33m\"\u001b[39m\u001b[33mignore\u001b[39m\u001b[33m\"\u001b[39m \u001b[38;5;28;01mif\u001b[39;00m \u001b[38;5;28misinstance\u001b[39m(obj.dtype, CategoricalDtype) \u001b[38;5;28;01melse\u001b[39;00m \u001b[38;5;28;01mNone\u001b[39;00m\n\u001b[32m-> \u001b[39m\u001b[32m1507\u001b[39m mapped = \u001b[43mobj\u001b[49m\u001b[43m.\u001b[49m\u001b[43m_map_values\u001b[49m\u001b[43m(\u001b[49m\n\u001b[32m   1508\u001b[39m \u001b[43m    \u001b[49m\u001b[43mmapper\u001b[49m\u001b[43m=\u001b[49m\u001b[43mcurried\u001b[49m\u001b[43m,\u001b[49m\u001b[43m \u001b[49m\u001b[43mna_action\u001b[49m\u001b[43m=\u001b[49m\u001b[43maction\u001b[49m\u001b[43m,\u001b[49m\u001b[43m \u001b[49m\u001b[43mconvert\u001b[49m\u001b[43m=\u001b[49m\u001b[38;5;28;43mself\u001b[39;49m\u001b[43m.\u001b[49m\u001b[43mconvert_dtype\u001b[49m\n\u001b[32m   1509\u001b[39m \u001b[43m\u001b[49m\u001b[43m)\u001b[49m\n\u001b[32m   1511\u001b[39m \u001b[38;5;28;01mif\u001b[39;00m \u001b[38;5;28mlen\u001b[39m(mapped) \u001b[38;5;129;01mand\u001b[39;00m \u001b[38;5;28misinstance\u001b[39m(mapped[\u001b[32m0\u001b[39m], ABCSeries):\n\u001b[32m   1512\u001b[39m     \u001b[38;5;66;03m# GH#43986 Need to do list(mapped) in order to get treated as nested\u001b[39;00m\n\u001b[32m   1513\u001b[39m     \u001b[38;5;66;03m#  See also GH#25959 regarding EA support\u001b[39;00m\n\u001b[32m   1514\u001b[39m     \u001b[38;5;28;01mreturn\u001b[39;00m obj._constructor_expanddim(\u001b[38;5;28mlist\u001b[39m(mapped), index=obj.index)\n",
      "\u001b[36mFile \u001b[39m\u001b[32md:\\Program_Files_D\\Python\\Lib\\site-packages\\pandas\\core\\base.py:921\u001b[39m, in \u001b[36mIndexOpsMixin._map_values\u001b[39m\u001b[34m(self, mapper, na_action, convert)\u001b[39m\n\u001b[32m    918\u001b[39m \u001b[38;5;28;01mif\u001b[39;00m \u001b[38;5;28misinstance\u001b[39m(arr, ExtensionArray):\n\u001b[32m    919\u001b[39m     \u001b[38;5;28;01mreturn\u001b[39;00m arr.map(mapper, na_action=na_action)\n\u001b[32m--> \u001b[39m\u001b[32m921\u001b[39m \u001b[38;5;28;01mreturn\u001b[39;00m \u001b[43malgorithms\u001b[49m\u001b[43m.\u001b[49m\u001b[43mmap_array\u001b[49m\u001b[43m(\u001b[49m\u001b[43marr\u001b[49m\u001b[43m,\u001b[49m\u001b[43m \u001b[49m\u001b[43mmapper\u001b[49m\u001b[43m,\u001b[49m\u001b[43m \u001b[49m\u001b[43mna_action\u001b[49m\u001b[43m=\u001b[49m\u001b[43mna_action\u001b[49m\u001b[43m,\u001b[49m\u001b[43m \u001b[49m\u001b[43mconvert\u001b[49m\u001b[43m=\u001b[49m\u001b[43mconvert\u001b[49m\u001b[43m)\u001b[49m\n",
      "\u001b[36mFile \u001b[39m\u001b[32md:\\Program_Files_D\\Python\\Lib\\site-packages\\pandas\\core\\algorithms.py:1743\u001b[39m, in \u001b[36mmap_array\u001b[39m\u001b[34m(arr, mapper, na_action, convert)\u001b[39m\n\u001b[32m   1741\u001b[39m values = arr.astype(\u001b[38;5;28mobject\u001b[39m, copy=\u001b[38;5;28;01mFalse\u001b[39;00m)\n\u001b[32m   1742\u001b[39m \u001b[38;5;28;01mif\u001b[39;00m na_action \u001b[38;5;129;01mis\u001b[39;00m \u001b[38;5;28;01mNone\u001b[39;00m:\n\u001b[32m-> \u001b[39m\u001b[32m1743\u001b[39m     \u001b[38;5;28;01mreturn\u001b[39;00m \u001b[43mlib\u001b[49m\u001b[43m.\u001b[49m\u001b[43mmap_infer\u001b[49m\u001b[43m(\u001b[49m\u001b[43mvalues\u001b[49m\u001b[43m,\u001b[49m\u001b[43m \u001b[49m\u001b[43mmapper\u001b[49m\u001b[43m,\u001b[49m\u001b[43m \u001b[49m\u001b[43mconvert\u001b[49m\u001b[43m=\u001b[49m\u001b[43mconvert\u001b[49m\u001b[43m)\u001b[49m\n\u001b[32m   1744\u001b[39m \u001b[38;5;28;01melse\u001b[39;00m:\n\u001b[32m   1745\u001b[39m     \u001b[38;5;28;01mreturn\u001b[39;00m lib.map_infer_mask(\n\u001b[32m   1746\u001b[39m         values, mapper, mask=isna(values).view(np.uint8), convert=convert\n\u001b[32m   1747\u001b[39m     )\n",
      "\u001b[36mFile \u001b[39m\u001b[32mlib.pyx:2972\u001b[39m, in \u001b[36mpandas._libs.lib.map_infer\u001b[39m\u001b[34m()\u001b[39m\n",
      "\u001b[36mCell\u001b[39m\u001b[36m \u001b[39m\u001b[32mIn[75]\u001b[39m\u001b[32m, line 17\u001b[39m, in \u001b[36m<lambda>\u001b[39m\u001b[34m(x)\u001b[39m\n\u001b[32m     14\u001b[39m     number_of_states = Information_Conditions(BaseEcologicalPublicGood(), mode).Q\n\u001b[32m     16\u001b[39m     \u001b[38;5;66;03m# df[\"final_point\"] = df[\"final_point\"].apply(lambda x: convert_final_point_to_numpy_array(x, number_of_states))\u001b[39;00m\n\u001b[32m---> \u001b[39m\u001b[32m17\u001b[39m     df[\u001b[33m\"\u001b[39m\u001b[33mavg_obsdist\u001b[39m\u001b[33m\"\u001b[39m] = df[\u001b[33m\"\u001b[39m\u001b[33mavg_obsdist\u001b[39m\u001b[33m\"\u001b[39m].apply(\u001b[38;5;28;01mlambda\u001b[39;00m x: \u001b[43mconvert_obsdist_to_numpy_array\u001b[49m\u001b[43m(\u001b[49m\u001b[43mx\u001b[49m\u001b[43m,\u001b[49m\u001b[43m \u001b[49m\u001b[43mnumber_of_states\u001b[49m\u001b[43m)\u001b[49m)\n\u001b[32m     20\u001b[39m \u001b[38;5;28mprint\u001b[39m(df_for_each_mode[\u001b[33m\"\u001b[39m\u001b[33mno_information\u001b[39m\u001b[33m\"\u001b[39m].head())\n",
      "\u001b[36mCell\u001b[39m\u001b[36m \u001b[39m\u001b[32mIn[75]\u001b[39m\u001b[32m, line 9\u001b[39m, in \u001b[36mconvert_obsdist_to_numpy_array\u001b[39m\u001b[34m(final_point, number_of_states)\u001b[39m\n\u001b[32m      7\u001b[39m \u001b[38;5;28;01mdef\u001b[39;00m\u001b[38;5;250m \u001b[39m\u001b[34mconvert_obsdist_to_numpy_array\u001b[39m(final_point, number_of_states):\n\u001b[32m----> \u001b[39m\u001b[32m9\u001b[39m     flat = np.fromstring(\u001b[43mfinal_point\u001b[49m\u001b[43m.\u001b[49m\u001b[43mreplace\u001b[49m(\u001b[33m'\u001b[39m\u001b[33m[\u001b[39m\u001b[33m'\u001b[39m, \u001b[33m'\u001b[39m\u001b[33m \u001b[39m\u001b[33m'\u001b[39m).replace(\u001b[33m'\u001b[39m\u001b[33m]\u001b[39m\u001b[33m'\u001b[39m, \u001b[33m'\u001b[39m\u001b[33m \u001b[39m\u001b[33m'\u001b[39m), sep=\u001b[33m'\u001b[39m\u001b[33m \u001b[39m\u001b[33m'\u001b[39m, dtype=\u001b[38;5;28mfloat\u001b[39m)\n\u001b[32m     10\u001b[39m     array = flat.reshape(\u001b[32m2\u001b[39m, number_of_states)\n\u001b[32m     11\u001b[39m     \u001b[38;5;28;01mreturn\u001b[39;00m array\n",
      "\u001b[31mAttributeError\u001b[39m: 'numpy.ndarray' object has no attribute 'replace'"
     ]
    }
   ],
   "source": [
    "def convert_final_point_to_numpy_array(final_point, number_of_states):\n",
    "\n",
    "    flat = np.fromstring(final_point.replace('[', ' ').replace(']', ' '), sep=' ', dtype=float)\n",
    "    array = flat.reshape(2, number_of_states , 2)\n",
    "    return array\n",
    "\n",
    "def convert_obsdist_to_numpy_array(final_point, number_of_states):\n",
    "\n",
    "    flat = np.fromstring(final_point.replace('[', ' ').replace(']', ' '), sep=' ', dtype=float)\n",
    "    array = flat.reshape(2, number_of_states)\n",
    "    return array\n",
    "\n",
    "for mode, df in df_for_each_mode.items():\n",
    "    number_of_states = Information_Conditions(BaseEcologicalPublicGood(), mode).Q\n",
    "    \n",
    "    # df[\"final_point\"] = df[\"final_point\"].apply(lambda x: convert_final_point_to_numpy_array(x, number_of_states))\n",
    "    df[\"avg_obsdist\"] = df[\"avg_obsdist\"].apply(lambda x: convert_obsdist_to_numpy_array(x, number_of_states))\n",
    "\n",
    "\n"
   ]
  },
  {
   "cell_type": "code",
   "execution_count": 77,
   "id": "5dab2677",
   "metadata": {},
   "outputs": [
    {
     "name": "stdout",
     "output_type": "stream",
     "text": [
      "                                         final_point  avg_coop  \\\n",
      "0  [[[0.0, 1.0], [0.0, 1.0], [0.0, 1.0], [0.0, 1....  0.007990   \n",
      "1  [[[0.1, 0.9], [0.0, 1.0], [0.0, 1.0], [0.0, 1....  0.005974   \n",
      "2  [[[0.0, 1.0], [0.0, 1.0], [0.0, 1.0], [0.0, 1....  0.006053   \n",
      "3  [[[0.0, 1.0], [0.0, 1.0], [0.0, 1.0], [0.0, 1....  0.010000   \n",
      "4  [[[1.0, 0.0], [0.0, 1.0], [0.0, 1.0], [0.0, 1....  0.009000   \n",
      "\n",
      "                                         avg_obsdist  frequency  \\\n",
      "0  [[0.0, 0.006, 0.007, 0.985], [0.0, 0.006, 0.00...       61.2   \n",
      "1  [[0.0, 0.009, 0.0, 0.989], [0.0, 0.009, 0.0, 0...        7.7   \n",
      "2  [[0.0, 0.001, 0.007, 0.99], [0.0, 0.001, 0.007...        7.6   \n",
      "3  [[0.0, 0.0, 0.017, 0.982], [0.0, 0.0, 0.017, 0...        2.2   \n",
      "4  [[0.0, 0.016, 0.002, 0.981], [0.0, 0.016, 0.00...        2.0   \n",
      "\n",
      "  strategy_classification  \n",
      "0          (ALL D, ALL D)  \n",
      "1          (ALL D, ALL D)  \n",
      "2          (ALL D, ALL D)  \n",
      "3             (ALL D, GT)  \n",
      "4             (GT, ALL D)  \n"
     ]
    }
   ],
   "source": [
    "print(df_for_each_mode[\"only_action_history_information\"].head())"
   ]
  },
  {
   "cell_type": "code",
   "execution_count": 5,
   "id": "37532484",
   "metadata": {},
   "outputs": [],
   "source": [
    "def plot_final_points(final_point_list, mode):\n",
    "    info_condition =  Information_Conditions(BaseEcologicalPublicGood(), mode)\n",
    "    number_of_states = info_condition.Q\n",
    "    Oset = info_condition.Oset[0]\n",
    "    fig, axes = plt.subplots(1, number_of_states, figsize=(5 * number_of_states, 5), squeeze=False)\n",
    "\n",
    "    for i, axis in enumerate(axes.flat):\n",
    "        axis.set(xlim = (0,1), ylim = (0,1), xlabel = 'agnt-1 coop. prob', ylabel = 'agnt-1 coop. prob')\n",
    "        axes[0,i].set_title(Oset[i])        \n",
    "\n",
    "    print(final_point_list)\n",
    "\n",
    "    for final_point in final_point_list :\n",
    "        for state in range(number_of_states):\n",
    "            agent_1_coop_prob, agent_2_coop_prob = final_point[:, state, 0]\n",
    "            axes[0,state].scatter(agent_1_coop_prob, agent_2_coop_prob, s = 50, color = 'red', alpha = 0.6)\n",
    "\n",
    "    plt.tight_layout()\n",
    "                        "
   ]
  },
  {
   "cell_type": "code",
   "execution_count": 6,
   "id": "19257a26",
   "metadata": {},
   "outputs": [
    {
     "name": "stdout",
     "output_type": "stream",
     "text": [
      "0    [[[0.0, 1.0], [0.0, 1.0], [0.0, 1.0], [0.0, 1....\n",
      "1    [[[0.1, 0.9], [0.0, 1.0], [0.0, 1.0], [0.0, 1....\n",
      "Name: final_point, dtype: object\n"
     ]
    },
    {
     "data": {
      "image/png": "[encoded data removed]",
      "text/plain": [
       "<Figure size 2000x500 with 4 Axes>"
      ]
     },
     "metadata": {},
     "output_type": "display_data"
    }
   ],
   "source": [
    "mode = 'only_action_history_information'\n",
    "final_point_list = df_for_each_mode[\"only_action_history_information\"][\"final_point\"]\n",
    "plot_final_points(final_point_list[0:2], mode)\n",
    "\n"
   ]
  },
  {
   "cell_type": "code",
   "execution_count": null,
   "id": "2fae02a4",
   "metadata": {},
   "outputs": [],
   "source": []
  },
  {
   "cell_type": "code",
   "execution_count": 81,
   "id": "9b2faccd",
   "metadata": {},
   "outputs": [],
   "source": [
    "def classify_final_point(final_point):\n",
    "    final_point_only_coop = final_point[:,:,0]\n",
    "    agent_1_strategy, agent_2_strategy = final_point_only_coop[0, :], final_point_only_coop[1, :]\n",
    "    agent_1_classification, agent_2_classification = classify_strategy(agent_1_strategy), classify_strategy(agent_2_strategy)\n",
    "\n",
    "    return (agent_1_classification, agent_2_classification)"
   ]
  },
  {
   "cell_type": "code",
   "execution_count": 82,
   "id": "57d3e906",
   "metadata": {},
   "outputs": [
    {
     "data": {
      "text/plain": [
       "('ALL D', 'other')"
      ]
     },
     "execution_count": 82,
     "metadata": {},
     "output_type": "execute_result"
    }
   ],
   "source": [
    "classify_final_point(final_point_list[9])"
   ]
  },
  {
   "cell_type": "code",
   "execution_count": 83,
   "id": "958c679a",
   "metadata": {},
   "outputs": [],
   "source": [
    "def classify_final_point(final_point):\n",
    "    final_point_only_coop = final_point[:,:,0]\n",
    "    agent_1_strategy, agent_2_strategy = final_point_only_coop[0, :], final_point_only_coop[1, :]\n",
    "    agent_1_classification, agent_2_classification = classify_strategy(agent_1_strategy), classify_strategy(agent_2_strategy)\n",
    "\n",
    "    return (agent_1_classification, agent_2_classification)\n",
    "\n",
    "\n",
    "df_only_action = df_for_each_mode['only_action_history_information']\n",
    "df_only_action['strategy_classification'] = df_only_action['final_point'].apply(classify_final_point)\n",
    "\n",
    "\n",
    "df_only_action.to_excel(\"only_action_classified.xlsx\")"
   ]
  },
  {
   "cell_type": "code",
   "execution_count": 78,
   "id": "26be5ed6",
   "metadata": {},
   "outputs": [],
   "source": [
    "df_both_only_state_and_action = df_for_each_mode['both_state_and_action_information']\n",
    "df_both_only_state_and_action_only_prosperous = df_both_only_state_and_action.copy()\n",
    "df_both_only_state_and_action_only_prosperous['final_point'] = df_both_only_state_and_action_only_prosperous['final_point'].apply(lambda x: x[:, 1::2,:])\n",
    "df_both_only_state_and_action_only_prosperous['avg_obsdist'] = df_both_only_state_and_action_only_prosperous['avg_obsdist'].apply(lambda x: np.array(x)[:, 1::2])\n",
    "\n",
    "df_both_only_state_and_action_only_prosperous.to_excel(\"both_state_and_action_only_prosperous.xlsx\")"
   ]
  },
  {
   "cell_type": "code",
   "execution_count": 84,
   "id": "5e6b051d",
   "metadata": {},
   "outputs": [],
   "source": [
    "df_both_only_state_and_action_only_prosperous['strategy_classification'] = df_both_only_state_and_action_only_prosperous['final_point'].apply(classify_final_point)\n",
    "df_both_only_state_and_action_only_prosperous.to_excel(\"both_state_and_action_only_prosperous_classified.xlsx\")"
   ]
  },
  {
   "cell_type": "markdown",
   "id": "c2a1f1b0",
   "metadata": {},
   "source": [
    "Keep only classification and frequncy in array, and group accoridng to classification. Sort tuples so that aggregation allows (Gt, AllC) and (ALLC, GT) as the same thing"
   ]
  },
  {
   "cell_type": "code",
   "execution_count": null,
   "id": "e06b2d11",
   "metadata": {},
   "outputs": [
    {
     "name": "stdout",
     "output_type": "stream",
     "text": [
      "    frequency   strategy_classification\n",
      "0        41.5            (ALL C, ALL C)\n",
      "1        33.0            (ALL D, ALL D)\n",
      "2         5.2              (WSLS, WSLS)\n",
      "3         2.1  (Reverse GT, Reverse GT)\n",
      "4         1.4            (ALL C, ALL C)\n",
      "..        ...                       ...\n",
      "76        0.1                     other\n",
      "77        0.1                     other\n",
      "78        0.1                     other\n",
      "79        0.1                     other\n",
      "80        0.1                     other\n",
      "\n",
      "[81 rows x 2 columns]\n",
      "                          frequency_\n",
      "strategy_classification             \n",
      "(ALL C, ALL C)                  45.2\n",
      "(ALL D, ALL D)                  33.0\n",
      "(GT, GT)                         0.5\n",
      "(Reverse GT, Reverse GT)         2.1\n",
      "(WSLS, WSLS)                     5.5\n",
      "other                           13.7\n"
     ]
    }
   ],
   "source": [
    "df_both_state_and_action_only_label_and_frequency = pd.read_excel(\"both_state_and_action_only_prosperous_classified.xlsx\")\n",
    "df_both_state_and_action_only_label_and_frequency.drop(columns=['final_point','avg_coop', 'avg_obsdist', 'Unnamed: 0' ], inplace=True)\n",
    "df_both_state_and_action_only_label_and_frequency.reset_index(drop=True, inplace=True)\n",
    "df_both_state_and_action_only_label_and_frequency.head()\n",
    "\n",
    "df_both_state_and_action_only_label_and_frequency['strategy_classification'] = df_both_state_and_action_only_label_and_frequency['strategy_classification'].apply(lambda x: tuple(sorted(ast.literal_eval(x))))\n",
    "df_both_state_and_action_only_label_and_frequency['strategy_classification'] = df_both_state_and_action_only_label_and_frequency['strategy_classification'].apply(lambda x: 'other'if 'other' in x else x)\n",
    "print(df_both_state_and_action_only_label_and_frequency)\n",
    "df_both_state_and_action_only_label_and_frequency = df_both_state_and_action_only_label_and_frequency.groupby('strategy_classification').agg(frequency_ = ('frequency', 'sum'))\n",
    "print(df_both_state_and_action_only_label_and_frequency)\n",
    "\n",
    "\n",
    "\n",
    "df_both_state_and_action_only_label_and_frequency.to_excel(\"both_state_and_action_only_label_and_frequency.xlsx\")\n",
    "\n"
   ]
  },
  {
   "cell_type": "code",
   "execution_count": 109,
   "id": "a43291f3",
   "metadata": {},
   "outputs": [
    {
     "name": "stdout",
     "output_type": "stream",
     "text": [
      "                         frequency_\n",
      "strategy_classification            \n",
      "(ALL D, ALL D)                 77.1\n",
      "(ALL D, GT)                     4.8\n",
      "(ALL D, Reverse GT)             0.1\n",
      "(ALL D, WSLS)                   1.1\n",
      "(GT, GT)                        0.1\n",
      "other                          16.8\n"
     ]
    }
   ],
   "source": [
    "df_only_action_label_and_frequency = pd.read_excel(\"only_action_classified.xlsx\")\n",
    "df_only_action_label_and_frequency.drop(\n",
    "    columns=['final_point', 'avg_coop', 'avg_obsdist', 'Unnamed: 0'], \n",
    "    inplace=True\n",
    ")\n",
    "df_only_action_label_and_frequency.reset_index(drop=True, inplace=True)\n",
    "\n",
    "# Process strategy classification\n",
    "df_only_action_label_and_frequency['strategy_classification'] = df_only_action_label_and_frequency['strategy_classification'].apply(\n",
    "    lambda x: tuple(sorted(ast.literal_eval(x)))\n",
    ")\n",
    "df_only_action_label_and_frequency['strategy_classification'] = df_only_action_label_and_frequency['strategy_classification'].apply(\n",
    "    lambda x: 'other' if 'other' in x else x\n",
    ")\n",
    "\n",
    "# Group by strategy classification and sum frequencies\n",
    "df_only_action_label_and_frequency = df_only_action_label_and_frequency.groupby(\n",
    "    'strategy_classification'\n",
    ").agg(frequency_=('frequency', 'sum'))\n",
    "\n",
    "print(df_only_action_label_and_frequency)\n",
    "\n",
    "\n",
    "df_only_action_label_and_frequency.to_excel(\"only_action_label_and_frequency.xlsx\")"
   ]
  },
  {
   "cell_type": "code",
   "execution_count": null,
   "id": "75fdc3f1",
   "metadata": {},
   "outputs": [],
   "source": [
    "def convert_final_point_to_numpy_array(final_point, number_of_states):\n",
    "\n",
    "    flat = np.fromstring(final_point.replace('[', ' ').replace(']', ' '), sep=' ', dtype=float)\n",
    "    array = flat.reshape(2, number_of_states , 2)\n",
    "    return array"
   ]
  }
 ],
 "metadata": {
  "kernelspec": {
   "display_name": "Python 3",
   "language": "python",
   "name": "python3"
  },
  "language_info": {
   "codemirror_mode": {
    "name": "ipython",
    "version": 3
   },
   "file_extension": ".py",
   "mimetype": "text/x-python",
   "name": "python",
   "nbconvert_exporter": "python",
   "pygments_lexer": "ipython3",
   "version": "3.13.2"
  }
 },
 "nbformat": 4,
 "nbformat_minor": 5
}
